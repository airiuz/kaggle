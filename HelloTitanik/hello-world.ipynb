{
 "cells": [
  {
   "cell_type": "raw",
   "id": "ea63eda0",
   "metadata": {
    "execution": {
     "iopub.execute_input": "2022-05-24T05:48:32.75681Z",
     "iopub.status.busy": "2022-05-24T05:48:32.755999Z",
     "iopub.status.idle": "2022-05-24T05:48:32.78783Z",
     "shell.execute_reply": "2022-05-24T05:48:32.786792Z",
     "shell.execute_reply.started": "2022-05-24T05:48:32.756711Z"
    },
    "papermill": {
     "duration": 0.022867,
     "end_time": "2023-04-02T20:15:21.974914",
     "exception": false,
     "start_time": "2023-04-02T20:15:21.952047",
     "status": "completed"
    },
    "tags": []
   },
   "source": [
    "# <center>Machine Leaning \"Hello World\" dasturi"
   ]
  },
  {
   "cell_type": "markdown",
   "id": "50d3c3aa",
   "metadata": {
    "papermill": {
     "duration": 0.02282,
     "end_time": "2023-04-02T20:15:22.018578",
     "exception": false,
     "start_time": "2023-04-02T20:15:21.995758",
     "status": "completed"
    },
    "tags": []
   },
   "source": [
    "> Muammo qanday? \n",
    "\n",
    "> Vazifamiz,yo‘lovchilar ro‘yxatini olib, yo’lovchilarning qaysi biri omon qolgan va kimlar tirik qolmaganini aniqlash uchun ehtimollikni bashorat qilish."
   ]
  },
  {
   "cell_type": "markdown",
   "id": "999857e9",
   "metadata": {
    "papermill": {
     "duration": 0.020693,
     "end_time": "2023-04-02T20:15:22.059972",
     "exception": false,
     "start_time": "2023-04-02T20:15:22.039279",
     "status": "completed"
    },
    "tags": []
   },
   "source": [
    "# 1. Kutubxona va ma'lumotlarni yuklab olamiz"
   ]
  },
  {
   "cell_type": "code",
   "execution_count": 1,
   "id": "bd020360",
   "metadata": {
    "_cell_guid": "b1076dfc-b9ad-4769-8c92-a6c4dae69d19",
    "_uuid": "8f2839f25d086af736a60e9eeb907d3b93b6e0e5",
    "execution": {
     "iopub.execute_input": "2023-04-02T20:15:22.104574Z",
     "iopub.status.busy": "2023-04-02T20:15:22.103386Z",
     "iopub.status.idle": "2023-04-02T20:15:22.188890Z",
     "shell.execute_reply": "2023-04-02T20:15:22.186873Z"
    },
    "papermill": {
     "duration": 0.110059,
     "end_time": "2023-04-02T20:15:22.191123",
     "exception": true,
     "start_time": "2023-04-02T20:15:22.081064",
     "status": "failed"
    },
    "tags": []
   },
   "outputs": [
    {
     "ename": "FileNotFoundError",
     "evalue": "[Errno 2] No such file or directory: '../input/titanic/train.csv'",
     "output_type": "error",
     "traceback": [
      "\u001b[0;31m---------------------------------------------------------------------------\u001b[0m",
      "\u001b[0;31mFileNotFoundError\u001b[0m                         Traceback (most recent call last)",
      "\u001b[0;32m/tmp/ipykernel_20/1976533947.py\u001b[0m in \u001b[0;36m<module>\u001b[0;34m\u001b[0m\n\u001b[1;32m      5\u001b[0m \u001b[0;34m\u001b[0m\u001b[0m\n\u001b[1;32m      6\u001b[0m \u001b[0;31m# musobaqa tomonidan taqdim etilgan data'larni o'zgaruvchi ochib tenglab olamiz\u001b[0m\u001b[0;34m\u001b[0m\u001b[0;34m\u001b[0m\u001b[0;34m\u001b[0m\u001b[0m\n\u001b[0;32m----> 7\u001b[0;31m \u001b[0mtrain\u001b[0m \u001b[0;34m=\u001b[0m \u001b[0mpd\u001b[0m\u001b[0;34m.\u001b[0m\u001b[0mread_csv\u001b[0m\u001b[0;34m(\u001b[0m\u001b[0;34m'../input/titanic/train.csv'\u001b[0m\u001b[0;34m)\u001b[0m\u001b[0;34m\u001b[0m\u001b[0;34m\u001b[0m\u001b[0m\n\u001b[0m\u001b[1;32m      8\u001b[0m \u001b[0mtest\u001b[0m \u001b[0;34m=\u001b[0m \u001b[0mpd\u001b[0m\u001b[0;34m.\u001b[0m\u001b[0mread_csv\u001b[0m\u001b[0;34m(\u001b[0m\u001b[0;34m'../input/titanic/test.csv'\u001b[0m\u001b[0;34m)\u001b[0m\u001b[0;34m\u001b[0m\u001b[0;34m\u001b[0m\u001b[0m\n",
      "\u001b[0;32m/opt/conda/lib/python3.7/site-packages/pandas/util/_decorators.py\u001b[0m in \u001b[0;36mwrapper\u001b[0;34m(*args, **kwargs)\u001b[0m\n\u001b[1;32m    309\u001b[0m                     \u001b[0mstacklevel\u001b[0m\u001b[0;34m=\u001b[0m\u001b[0mstacklevel\u001b[0m\u001b[0;34m,\u001b[0m\u001b[0;34m\u001b[0m\u001b[0;34m\u001b[0m\u001b[0m\n\u001b[1;32m    310\u001b[0m                 )\n\u001b[0;32m--> 311\u001b[0;31m             \u001b[0;32mreturn\u001b[0m \u001b[0mfunc\u001b[0m\u001b[0;34m(\u001b[0m\u001b[0;34m*\u001b[0m\u001b[0margs\u001b[0m\u001b[0;34m,\u001b[0m \u001b[0;34m**\u001b[0m\u001b[0mkwargs\u001b[0m\u001b[0;34m)\u001b[0m\u001b[0;34m\u001b[0m\u001b[0;34m\u001b[0m\u001b[0m\n\u001b[0m\u001b[1;32m    312\u001b[0m \u001b[0;34m\u001b[0m\u001b[0m\n\u001b[1;32m    313\u001b[0m         \u001b[0;32mreturn\u001b[0m \u001b[0mwrapper\u001b[0m\u001b[0;34m\u001b[0m\u001b[0;34m\u001b[0m\u001b[0m\n",
      "\u001b[0;32m/opt/conda/lib/python3.7/site-packages/pandas/io/parsers/readers.py\u001b[0m in \u001b[0;36mread_csv\u001b[0;34m(filepath_or_buffer, sep, delimiter, header, names, index_col, usecols, squeeze, prefix, mangle_dupe_cols, dtype, engine, converters, true_values, false_values, skipinitialspace, skiprows, skipfooter, nrows, na_values, keep_default_na, na_filter, verbose, skip_blank_lines, parse_dates, infer_datetime_format, keep_date_col, date_parser, dayfirst, cache_dates, iterator, chunksize, compression, thousands, decimal, lineterminator, quotechar, quoting, doublequote, escapechar, comment, encoding, encoding_errors, dialect, error_bad_lines, warn_bad_lines, on_bad_lines, delim_whitespace, low_memory, memory_map, float_precision, storage_options)\u001b[0m\n\u001b[1;32m    584\u001b[0m     \u001b[0mkwds\u001b[0m\u001b[0;34m.\u001b[0m\u001b[0mupdate\u001b[0m\u001b[0;34m(\u001b[0m\u001b[0mkwds_defaults\u001b[0m\u001b[0;34m)\u001b[0m\u001b[0;34m\u001b[0m\u001b[0;34m\u001b[0m\u001b[0m\n\u001b[1;32m    585\u001b[0m \u001b[0;34m\u001b[0m\u001b[0m\n\u001b[0;32m--> 586\u001b[0;31m     \u001b[0;32mreturn\u001b[0m \u001b[0m_read\u001b[0m\u001b[0;34m(\u001b[0m\u001b[0mfilepath_or_buffer\u001b[0m\u001b[0;34m,\u001b[0m \u001b[0mkwds\u001b[0m\u001b[0;34m)\u001b[0m\u001b[0;34m\u001b[0m\u001b[0;34m\u001b[0m\u001b[0m\n\u001b[0m\u001b[1;32m    587\u001b[0m \u001b[0;34m\u001b[0m\u001b[0m\n\u001b[1;32m    588\u001b[0m \u001b[0;34m\u001b[0m\u001b[0m\n",
      "\u001b[0;32m/opt/conda/lib/python3.7/site-packages/pandas/io/parsers/readers.py\u001b[0m in \u001b[0;36m_read\u001b[0;34m(filepath_or_buffer, kwds)\u001b[0m\n\u001b[1;32m    480\u001b[0m \u001b[0;34m\u001b[0m\u001b[0m\n\u001b[1;32m    481\u001b[0m     \u001b[0;31m# Create the parser.\u001b[0m\u001b[0;34m\u001b[0m\u001b[0;34m\u001b[0m\u001b[0;34m\u001b[0m\u001b[0m\n\u001b[0;32m--> 482\u001b[0;31m     \u001b[0mparser\u001b[0m \u001b[0;34m=\u001b[0m \u001b[0mTextFileReader\u001b[0m\u001b[0;34m(\u001b[0m\u001b[0mfilepath_or_buffer\u001b[0m\u001b[0;34m,\u001b[0m \u001b[0;34m**\u001b[0m\u001b[0mkwds\u001b[0m\u001b[0;34m)\u001b[0m\u001b[0;34m\u001b[0m\u001b[0;34m\u001b[0m\u001b[0m\n\u001b[0m\u001b[1;32m    483\u001b[0m \u001b[0;34m\u001b[0m\u001b[0m\n\u001b[1;32m    484\u001b[0m     \u001b[0;32mif\u001b[0m \u001b[0mchunksize\u001b[0m \u001b[0;32mor\u001b[0m \u001b[0miterator\u001b[0m\u001b[0;34m:\u001b[0m\u001b[0;34m\u001b[0m\u001b[0;34m\u001b[0m\u001b[0m\n",
      "\u001b[0;32m/opt/conda/lib/python3.7/site-packages/pandas/io/parsers/readers.py\u001b[0m in \u001b[0;36m__init__\u001b[0;34m(self, f, engine, **kwds)\u001b[0m\n\u001b[1;32m    809\u001b[0m             \u001b[0mself\u001b[0m\u001b[0;34m.\u001b[0m\u001b[0moptions\u001b[0m\u001b[0;34m[\u001b[0m\u001b[0;34m\"has_index_names\"\u001b[0m\u001b[0;34m]\u001b[0m \u001b[0;34m=\u001b[0m \u001b[0mkwds\u001b[0m\u001b[0;34m[\u001b[0m\u001b[0;34m\"has_index_names\"\u001b[0m\u001b[0;34m]\u001b[0m\u001b[0;34m\u001b[0m\u001b[0;34m\u001b[0m\u001b[0m\n\u001b[1;32m    810\u001b[0m \u001b[0;34m\u001b[0m\u001b[0m\n\u001b[0;32m--> 811\u001b[0;31m         \u001b[0mself\u001b[0m\u001b[0;34m.\u001b[0m\u001b[0m_engine\u001b[0m \u001b[0;34m=\u001b[0m \u001b[0mself\u001b[0m\u001b[0;34m.\u001b[0m\u001b[0m_make_engine\u001b[0m\u001b[0;34m(\u001b[0m\u001b[0mself\u001b[0m\u001b[0;34m.\u001b[0m\u001b[0mengine\u001b[0m\u001b[0;34m)\u001b[0m\u001b[0;34m\u001b[0m\u001b[0;34m\u001b[0m\u001b[0m\n\u001b[0m\u001b[1;32m    812\u001b[0m \u001b[0;34m\u001b[0m\u001b[0m\n\u001b[1;32m    813\u001b[0m     \u001b[0;32mdef\u001b[0m \u001b[0mclose\u001b[0m\u001b[0;34m(\u001b[0m\u001b[0mself\u001b[0m\u001b[0;34m)\u001b[0m\u001b[0;34m:\u001b[0m\u001b[0;34m\u001b[0m\u001b[0;34m\u001b[0m\u001b[0m\n",
      "\u001b[0;32m/opt/conda/lib/python3.7/site-packages/pandas/io/parsers/readers.py\u001b[0m in \u001b[0;36m_make_engine\u001b[0;34m(self, engine)\u001b[0m\n\u001b[1;32m   1038\u001b[0m             )\n\u001b[1;32m   1039\u001b[0m         \u001b[0;31m# error: Too many arguments for \"ParserBase\"\u001b[0m\u001b[0;34m\u001b[0m\u001b[0;34m\u001b[0m\u001b[0;34m\u001b[0m\u001b[0m\n\u001b[0;32m-> 1040\u001b[0;31m         \u001b[0;32mreturn\u001b[0m \u001b[0mmapping\u001b[0m\u001b[0;34m[\u001b[0m\u001b[0mengine\u001b[0m\u001b[0;34m]\u001b[0m\u001b[0;34m(\u001b[0m\u001b[0mself\u001b[0m\u001b[0;34m.\u001b[0m\u001b[0mf\u001b[0m\u001b[0;34m,\u001b[0m \u001b[0;34m**\u001b[0m\u001b[0mself\u001b[0m\u001b[0;34m.\u001b[0m\u001b[0moptions\u001b[0m\u001b[0;34m)\u001b[0m  \u001b[0;31m# type: ignore[call-arg]\u001b[0m\u001b[0;34m\u001b[0m\u001b[0;34m\u001b[0m\u001b[0m\n\u001b[0m\u001b[1;32m   1041\u001b[0m \u001b[0;34m\u001b[0m\u001b[0m\n\u001b[1;32m   1042\u001b[0m     \u001b[0;32mdef\u001b[0m \u001b[0m_failover_to_python\u001b[0m\u001b[0;34m(\u001b[0m\u001b[0mself\u001b[0m\u001b[0;34m)\u001b[0m\u001b[0;34m:\u001b[0m\u001b[0;34m\u001b[0m\u001b[0;34m\u001b[0m\u001b[0m\n",
      "\u001b[0;32m/opt/conda/lib/python3.7/site-packages/pandas/io/parsers/c_parser_wrapper.py\u001b[0m in \u001b[0;36m__init__\u001b[0;34m(self, src, **kwds)\u001b[0m\n\u001b[1;32m     49\u001b[0m \u001b[0;34m\u001b[0m\u001b[0m\n\u001b[1;32m     50\u001b[0m         \u001b[0;31m# open handles\u001b[0m\u001b[0;34m\u001b[0m\u001b[0;34m\u001b[0m\u001b[0;34m\u001b[0m\u001b[0m\n\u001b[0;32m---> 51\u001b[0;31m         \u001b[0mself\u001b[0m\u001b[0;34m.\u001b[0m\u001b[0m_open_handles\u001b[0m\u001b[0;34m(\u001b[0m\u001b[0msrc\u001b[0m\u001b[0;34m,\u001b[0m \u001b[0mkwds\u001b[0m\u001b[0;34m)\u001b[0m\u001b[0;34m\u001b[0m\u001b[0;34m\u001b[0m\u001b[0m\n\u001b[0m\u001b[1;32m     52\u001b[0m         \u001b[0;32massert\u001b[0m \u001b[0mself\u001b[0m\u001b[0;34m.\u001b[0m\u001b[0mhandles\u001b[0m \u001b[0;32mis\u001b[0m \u001b[0;32mnot\u001b[0m \u001b[0;32mNone\u001b[0m\u001b[0;34m\u001b[0m\u001b[0;34m\u001b[0m\u001b[0m\n\u001b[1;32m     53\u001b[0m \u001b[0;34m\u001b[0m\u001b[0m\n",
      "\u001b[0;32m/opt/conda/lib/python3.7/site-packages/pandas/io/parsers/base_parser.py\u001b[0m in \u001b[0;36m_open_handles\u001b[0;34m(self, src, kwds)\u001b[0m\n\u001b[1;32m    227\u001b[0m             \u001b[0mmemory_map\u001b[0m\u001b[0;34m=\u001b[0m\u001b[0mkwds\u001b[0m\u001b[0;34m.\u001b[0m\u001b[0mget\u001b[0m\u001b[0;34m(\u001b[0m\u001b[0;34m\"memory_map\"\u001b[0m\u001b[0;34m,\u001b[0m \u001b[0;32mFalse\u001b[0m\u001b[0;34m)\u001b[0m\u001b[0;34m,\u001b[0m\u001b[0;34m\u001b[0m\u001b[0;34m\u001b[0m\u001b[0m\n\u001b[1;32m    228\u001b[0m             \u001b[0mstorage_options\u001b[0m\u001b[0;34m=\u001b[0m\u001b[0mkwds\u001b[0m\u001b[0;34m.\u001b[0m\u001b[0mget\u001b[0m\u001b[0;34m(\u001b[0m\u001b[0;34m\"storage_options\"\u001b[0m\u001b[0;34m,\u001b[0m \u001b[0;32mNone\u001b[0m\u001b[0;34m)\u001b[0m\u001b[0;34m,\u001b[0m\u001b[0;34m\u001b[0m\u001b[0;34m\u001b[0m\u001b[0m\n\u001b[0;32m--> 229\u001b[0;31m             \u001b[0merrors\u001b[0m\u001b[0;34m=\u001b[0m\u001b[0mkwds\u001b[0m\u001b[0;34m.\u001b[0m\u001b[0mget\u001b[0m\u001b[0;34m(\u001b[0m\u001b[0;34m\"encoding_errors\"\u001b[0m\u001b[0;34m,\u001b[0m \u001b[0;34m\"strict\"\u001b[0m\u001b[0;34m)\u001b[0m\u001b[0;34m,\u001b[0m\u001b[0;34m\u001b[0m\u001b[0;34m\u001b[0m\u001b[0m\n\u001b[0m\u001b[1;32m    230\u001b[0m         )\n\u001b[1;32m    231\u001b[0m \u001b[0;34m\u001b[0m\u001b[0m\n",
      "\u001b[0;32m/opt/conda/lib/python3.7/site-packages/pandas/io/common.py\u001b[0m in \u001b[0;36mget_handle\u001b[0;34m(path_or_buf, mode, encoding, compression, memory_map, is_text, errors, storage_options)\u001b[0m\n\u001b[1;32m    705\u001b[0m                 \u001b[0mencoding\u001b[0m\u001b[0;34m=\u001b[0m\u001b[0mioargs\u001b[0m\u001b[0;34m.\u001b[0m\u001b[0mencoding\u001b[0m\u001b[0;34m,\u001b[0m\u001b[0;34m\u001b[0m\u001b[0;34m\u001b[0m\u001b[0m\n\u001b[1;32m    706\u001b[0m                 \u001b[0merrors\u001b[0m\u001b[0;34m=\u001b[0m\u001b[0merrors\u001b[0m\u001b[0;34m,\u001b[0m\u001b[0;34m\u001b[0m\u001b[0;34m\u001b[0m\u001b[0m\n\u001b[0;32m--> 707\u001b[0;31m                 \u001b[0mnewline\u001b[0m\u001b[0;34m=\u001b[0m\u001b[0;34m\"\"\u001b[0m\u001b[0;34m,\u001b[0m\u001b[0;34m\u001b[0m\u001b[0;34m\u001b[0m\u001b[0m\n\u001b[0m\u001b[1;32m    708\u001b[0m             )\n\u001b[1;32m    709\u001b[0m         \u001b[0;32melse\u001b[0m\u001b[0;34m:\u001b[0m\u001b[0;34m\u001b[0m\u001b[0;34m\u001b[0m\u001b[0m\n",
      "\u001b[0;31mFileNotFoundError\u001b[0m: [Errno 2] No such file or directory: '../input/titanic/train.csv'"
     ]
    }
   ],
   "source": [
    "# pandas kutubxonasini import qilib olamiz!\n",
    "# Pandas ma'lumotlarni tozalash va tahlil qilish uchun \n",
    "# ishlatiladigan Data Science va Machine Learning 'da eng ko'p qo'llaniladigan kutubxona.\n",
    "import pandas as pd\n",
    "\n",
    "# musobaqa tomonidan taqdim etilgan data'larni o'zgaruvchi ochib tenglab olamiz\n",
    "train = pd.read_csv('../input/titanic/train.csv')\n",
    "test = pd.read_csv('../input/titanic/test.csv')"
   ]
  },
  {
   "cell_type": "code",
   "execution_count": null,
   "id": "da0366fc",
   "metadata": {
    "execution": {
     "iopub.execute_input": "2022-07-17T15:30:36.290364Z",
     "iopub.status.busy": "2022-07-17T15:30:36.289697Z",
     "iopub.status.idle": "2022-07-17T15:30:36.309537Z",
     "shell.execute_reply": "2022-07-17T15:30:36.308639Z",
     "shell.execute_reply.started": "2022-07-17T15:24:24.543112Z"
    },
    "papermill": {
     "duration": null,
     "end_time": null,
     "exception": null,
     "start_time": null,
     "status": "pending"
    },
    "tags": []
   },
   "outputs": [],
   "source": [
    "# head funksiyasi yordamida train data'mizning 10 ta qatorini ko'ramiz\n",
    "train.head(10)"
   ]
  },
  {
   "cell_type": "code",
   "execution_count": null,
   "id": "f8ebf375",
   "metadata": {
    "execution": {
     "iopub.execute_input": "2022-07-17T15:30:36.481266Z",
     "iopub.status.busy": "2022-07-17T15:30:36.480499Z",
     "iopub.status.idle": "2022-07-17T15:30:36.483451Z",
     "shell.execute_reply": "2022-07-17T15:30:36.483851Z",
     "shell.execute_reply.started": "2022-07-17T15:24:24.570453Z"
    },
    "papermill": {
     "duration": null,
     "end_time": null,
     "exception": null,
     "start_time": null,
     "status": "pending"
    },
    "tags": []
   },
   "outputs": [],
   "source": [
    "# head funksiyasi yordamida test data'mizning \n",
    "# boshidagi 5 ta qatorini ko'rib olamiz\n",
    "test.head()"
   ]
  },
  {
   "cell_type": "code",
   "execution_count": null,
   "id": "6a1fdbda",
   "metadata": {
    "execution": {
     "iopub.execute_input": "2022-07-17T15:30:36.647135Z",
     "iopub.status.busy": "2022-07-17T15:30:36.646213Z",
     "iopub.status.idle": "2022-07-17T15:30:36.649472Z",
     "shell.execute_reply": "2022-07-17T15:30:36.649971Z",
     "shell.execute_reply.started": "2022-07-17T15:24:24.588357Z"
    },
    "papermill": {
     "duration": null,
     "end_time": null,
     "exception": null,
     "start_time": null,
     "status": "pending"
    },
    "tags": []
   },
   "outputs": [],
   "source": [
    "# shape funksiyasi train data ichidagi qatorlar va ustunlar sonini \n",
    "# chop etib beradi train data 'miz ichida 891 qator \n",
    "# va 12 ustundan iborat ma'lumot bor!\n",
    "train.shape"
   ]
  },
  {
   "cell_type": "code",
   "execution_count": null,
   "id": "f78e7b9a",
   "metadata": {
    "execution": {
     "iopub.execute_input": "2022-07-17T15:30:36.883888Z",
     "iopub.status.busy": "2022-07-17T15:30:36.882973Z",
     "iopub.status.idle": "2022-07-17T15:30:36.886656Z",
     "shell.execute_reply": "2022-07-17T15:30:36.884621Z",
     "shell.execute_reply.started": "2022-07-17T15:24:24.595697Z"
    },
    "papermill": {
     "duration": null,
     "end_time": null,
     "exception": null,
     "start_time": null,
     "status": "pending"
    },
    "tags": []
   },
   "outputs": [],
   "source": [
    "# shape funksiyasi test data ichidagi qatorlar \n",
    "# va ustunlar sonini chop etib beradi\n",
    "# test data 'miz ichida 418 qator va 11 ustundan iborat \n",
    "# ma'lumot bor!\n",
    "test.shape"
   ]
  },
  {
   "cell_type": "code",
   "execution_count": null,
   "id": "991c1158",
   "metadata": {
    "execution": {
     "iopub.execute_input": "2022-07-17T15:30:37.162743Z",
     "iopub.status.busy": "2022-07-17T15:30:37.161885Z",
     "iopub.status.idle": "2022-07-17T15:30:37.183095Z",
     "shell.execute_reply": "2022-07-17T15:30:37.184175Z",
     "shell.execute_reply.started": "2022-07-17T15:24:24.604810Z"
    },
    "papermill": {
     "duration": null,
     "end_time": null,
     "exception": null,
     "start_time": null,
     "status": "pending"
    },
    "tags": []
   },
   "outputs": [],
   "source": [
    "# train data'ning har bir ustulari haqida ma'lumot \n",
    "# turlarini birma-bir ko'rib chiqamiz\n",
    "train.info()"
   ]
  },
  {
   "cell_type": "code",
   "execution_count": null,
   "id": "a03a0b83",
   "metadata": {
    "execution": {
     "iopub.execute_input": "2022-07-17T15:30:37.406223Z",
     "iopub.status.busy": "2022-07-17T15:30:37.405410Z",
     "iopub.status.idle": "2022-07-17T15:30:37.409079Z",
     "shell.execute_reply": "2022-07-17T15:30:37.409659Z",
     "shell.execute_reply.started": "2022-07-17T15:24:24.628484Z"
    },
    "papermill": {
     "duration": null,
     "end_time": null,
     "exception": null,
     "start_time": null,
     "status": "pending"
    },
    "tags": []
   },
   "outputs": [],
   "source": [
    "# test data'ning har bir ustulari haqida ma'lumot \n",
    "# turlarini birma-bir ko'rib chiqamiz\n",
    "test.info()\n"
   ]
  },
  {
   "cell_type": "markdown",
   "id": "ff772675",
   "metadata": {
    "papermill": {
     "duration": null,
     "end_time": null,
     "exception": null,
     "start_time": null,
     "status": "pending"
    },
    "tags": []
   },
   "source": [
    "# 2. Yetishmayotgan qiymatlar bilan ishlaymiz⁉️\n",
    "Bu eng murakkab qismlardan biridir, negaki bizda yoqotilgan qiymatlar bo'lib biz ularni tiklashga harakat qilishimiz kerak. Yetishmayotgan ma'lumotlar tushunchasi: bu ko'rib chiqilayotgan kuzatish uchun o'zgaruvchi olinmagan ma'lumotldir. Maqolalarga ko'ra, yetishmayotgan ma'lumotlar tahlilning statistik kuchini pasaytiradi, bu esa natijalarning haqiqiyligini buzishi mumkin.\n",
    "\n",
    "(Finding the missing values)"
   ]
  },
  {
   "cell_type": "code",
   "execution_count": null,
   "id": "f90624b9",
   "metadata": {
    "execution": {
     "iopub.execute_input": "2022-07-17T15:30:37.739561Z",
     "iopub.status.busy": "2022-07-17T15:30:37.738344Z",
     "iopub.status.idle": "2022-07-17T15:30:37.741912Z",
     "shell.execute_reply": "2022-07-17T15:30:37.741491Z",
     "shell.execute_reply.started": "2022-07-17T15:24:24.642799Z"
    },
    "papermill": {
     "duration": null,
     "end_time": null,
     "exception": null,
     "start_time": null,
     "status": "pending"
    },
    "tags": []
   },
   "outputs": [],
   "source": [
    "# train data'dagi yetishmayotgan qiymatlarni sonini topish\n",
    "# Age ustunida 177 o'rinda yo'lovchilar yoshlari ko'rsatilmagan\n",
    "# Cabin ustunida 687 va Embarked ustunida esa \n",
    "# 2 o'rinda yetishmayotgan qiymatlar mavjud\n",
    "train.isnull().sum()\n"
   ]
  },
  {
   "cell_type": "code",
   "execution_count": null,
   "id": "f3ccf638",
   "metadata": {
    "execution": {
     "iopub.execute_input": "2022-07-17T15:30:37.912163Z",
     "iopub.status.busy": "2022-07-17T15:30:37.911498Z",
     "iopub.status.idle": "2022-07-17T15:30:37.914256Z",
     "shell.execute_reply": "2022-07-17T15:30:37.914657Z",
     "shell.execute_reply.started": "2022-07-17T15:24:24.654309Z"
    },
    "papermill": {
     "duration": null,
     "end_time": null,
     "exception": null,
     "start_time": null,
     "status": "pending"
    },
    "tags": []
   },
   "outputs": [],
   "source": [
    "# test data'dagi yetishmayotgan qiymatlarni sonini topish\n",
    "test.isnull().sum()"
   ]
  },
  {
   "cell_type": "markdown",
   "id": "7f8fa421",
   "metadata": {
    "papermill": {
     "duration": null,
     "end_time": null,
     "exception": null,
     "start_time": null,
     "status": "pending"
    },
    "tags": []
   },
   "source": [
    "# 3. Ma'lumotlarni vizual ko'rinishga olib kelamiz\n",
    "Bu shunchaki ajoyib, siz jarayonni vizual kuzatishingiz mumkin!\n",
    "\n",
    "(Data Vizualization)"
   ]
  },
  {
   "cell_type": "code",
   "execution_count": null,
   "id": "3293b6dc",
   "metadata": {
    "execution": {
     "iopub.execute_input": "2022-07-17T15:30:38.252701Z",
     "iopub.status.busy": "2022-07-17T15:30:38.251951Z",
     "iopub.status.idle": "2022-07-17T15:30:39.208933Z",
     "shell.execute_reply": "2022-07-17T15:30:39.208428Z",
     "shell.execute_reply.started": "2022-07-17T15:24:24.664826Z"
    },
    "papermill": {
     "duration": null,
     "end_time": null,
     "exception": null,
     "start_time": null,
     "status": "pending"
    },
    "tags": []
   },
   "outputs": [],
   "source": [
    "# data visualization uchun matplotlib va \n",
    "# seaborn libary'larni import qilib olamiz\n",
    "import matplotlib.pyplot as plt\n",
    "%matplotlib inline\n",
    "import seaborn as sns\n",
    "sns.set() "
   ]
  },
  {
   "cell_type": "code",
   "execution_count": null,
   "id": "5fc963ac",
   "metadata": {
    "execution": {
     "iopub.execute_input": "2022-07-17T15:30:39.376527Z",
     "iopub.status.busy": "2022-07-17T15:30:39.375825Z",
     "iopub.status.idle": "2022-07-17T15:30:39.379340Z",
     "shell.execute_reply": "2022-07-17T15:30:39.378883Z",
     "shell.execute_reply.started": "2022-07-17T15:24:25.472982Z"
    },
    "papermill": {
     "duration": null,
     "end_time": null,
     "exception": null,
     "start_time": null,
     "status": "pending"
    },
    "tags": []
   },
   "outputs": [],
   "source": [
    "# bar chart graph uchun seaborn libary 'ni \n",
    "# import qilib olamiz\n",
    "import seaborn as sns\n",
    "sns.set() "
   ]
  },
  {
   "cell_type": "code",
   "execution_count": null,
   "id": "d6538ffb",
   "metadata": {
    "execution": {
     "iopub.execute_input": "2022-07-17T15:30:39.547494Z",
     "iopub.status.busy": "2022-07-17T15:30:39.546677Z",
     "iopub.status.idle": "2022-07-17T15:30:39.548706Z",
     "shell.execute_reply": "2022-07-17T15:30:39.549090Z",
     "shell.execute_reply.started": "2022-07-17T15:24:25.479604Z"
    },
    "papermill": {
     "duration": null,
     "end_time": null,
     "exception": null,
     "start_time": null,
     "status": "pending"
    },
    "tags": []
   },
   "outputs": [],
   "source": [
    "# bar_chart nomli funksiya ochib olamiz. \n",
    "# Biz Survived (yaralangan) yo'lovchilar va dead (vafot etgan) \n",
    "# yo'lovchilarning grafiklarini tuzib chiqmoqchimiz\n",
    "\n",
    "def bar_chart(feature):\n",
    "    survived = train[train['Survived']==1][feature].value_counts()\n",
    "    dead = train[train['Survived']==0][feature].value_counts()\n",
    "    df = pd.DataFrame([survived,dead])\n",
    "    df.index = ['Survived','Dead']\n",
    "    df.plot(kind='bar',stacked=True, figsize=(10,5))\n"
   ]
  },
  {
   "cell_type": "code",
   "execution_count": null,
   "id": "cf79f96d",
   "metadata": {
    "execution": {
     "iopub.execute_input": "2022-07-17T15:30:39.733017Z",
     "iopub.status.busy": "2022-07-17T15:30:39.732234Z",
     "iopub.status.idle": "2022-07-17T15:30:39.978781Z",
     "shell.execute_reply": "2022-07-17T15:30:39.979169Z",
     "shell.execute_reply.started": "2022-07-17T15:24:25.489264Z"
    },
    "papermill": {
     "duration": null,
     "end_time": null,
     "exception": null,
     "start_time": null,
     "status": "pending"
    },
    "tags": []
   },
   "outputs": [],
   "source": [
    "# Olovrang-ayollar, ko'k-erkaklar.\n",
    "# Demak, kemada avval ayollar ko'proq yaralanganlar, \n",
    "# vafot etish ko'rsatkichi esa \n",
    "# erkaklarda nisbatan ko'p ekan\n",
    "\n",
    "bar_chart('Sex')"
   ]
  },
  {
   "cell_type": "code",
   "execution_count": null,
   "id": "cdce41ab",
   "metadata": {
    "execution": {
     "iopub.execute_input": "2022-07-17T15:30:40.155089Z",
     "iopub.status.busy": "2022-07-17T15:30:40.151917Z",
     "iopub.status.idle": "2022-07-17T15:30:40.370158Z",
     "shell.execute_reply": "2022-07-17T15:30:40.369679Z",
     "shell.execute_reply.started": "2022-07-17T15:24:25.736388Z"
    },
    "papermill": {
     "duration": null,
     "end_time": null,
     "exception": null,
     "start_time": null,
     "status": "pending"
    },
    "tags": []
   },
   "outputs": [],
   "source": [
    "# Kemada umumiy hisobda uchta klass bo'lgan edi. \n",
    "# Yaralangan insonlar soni deyarli teng, vafot etish esa \n",
    "# asosan uchinchi klassda yuqori bo'lgan ekan\n",
    "\n",
    "bar_chart('Pclass')"
   ]
  },
  {
   "cell_type": "code",
   "execution_count": null,
   "id": "2aa819a4",
   "metadata": {
    "execution": {
     "iopub.execute_input": "2022-07-17T15:30:40.541863Z",
     "iopub.status.busy": "2022-07-17T15:30:40.540950Z",
     "iopub.status.idle": "2022-07-17T15:30:40.795759Z",
     "shell.execute_reply": "2022-07-17T15:30:40.796153Z",
     "shell.execute_reply.started": "2022-07-17T15:24:25.951257Z"
    },
    "papermill": {
     "duration": null,
     "end_time": null,
     "exception": null,
     "start_time": null,
     "status": "pending"
    },
    "tags": []
   },
   "outputs": [],
   "source": [
    "bar_chart('SibSp')"
   ]
  },
  {
   "cell_type": "code",
   "execution_count": null,
   "id": "dc0a00fb",
   "metadata": {
    "execution": {
     "iopub.execute_input": "2022-07-17T15:30:40.968795Z",
     "iopub.status.busy": "2022-07-17T15:30:40.967953Z",
     "iopub.status.idle": "2022-07-17T15:30:41.217916Z",
     "shell.execute_reply": "2022-07-17T15:30:41.217472Z",
     "shell.execute_reply.started": "2022-07-17T15:24:26.209763Z"
    },
    "papermill": {
     "duration": null,
     "end_time": null,
     "exception": null,
     "start_time": null,
     "status": "pending"
    },
    "tags": []
   },
   "outputs": [],
   "source": [
    "bar_chart('Parch')"
   ]
  },
  {
   "cell_type": "code",
   "execution_count": null,
   "id": "043823fb",
   "metadata": {
    "execution": {
     "iopub.execute_input": "2022-07-17T15:30:41.417248Z",
     "iopub.status.busy": "2022-07-17T15:30:41.394434Z",
     "iopub.status.idle": "2022-07-17T15:30:41.609094Z",
     "shell.execute_reply": "2022-07-17T15:30:41.609515Z",
     "shell.execute_reply.started": "2022-07-17T15:24:26.468060Z"
    },
    "papermill": {
     "duration": null,
     "end_time": null,
     "exception": null,
     "start_time": null,
     "status": "pending"
    },
    "tags": []
   },
   "outputs": [],
   "source": [
    "# Embarked sayohatchining qayerdan minganini bildiradi.\n",
    "# Embark uchun uchta mumkin bo'lgan qiymat mavjud - \n",
    "# Sautgempton, Cherbourg va Kvinstaun.\n",
    "# (Southampton, Cherbourg, Queenstown) \n",
    "# Odamlarning 70% dan ortig'i Sautgemptondan uchgan. 20% dan sal kamrog'i \n",
    "# Cherbourgdan, qolganlari esa Kvinstaundan.\n",
    "bar_chart('Embarked')"
   ]
  },
  {
   "cell_type": "code",
   "execution_count": null,
   "id": "37374a7b",
   "metadata": {
    "execution": {
     "iopub.execute_input": "2022-07-17T15:30:41.793495Z",
     "iopub.status.busy": "2022-07-17T15:30:41.792769Z",
     "iopub.status.idle": "2022-07-17T15:30:41.797266Z",
     "shell.execute_reply": "2022-07-17T15:30:41.796766Z",
     "shell.execute_reply.started": "2022-07-17T15:24:26.683487Z"
    },
    "papermill": {
     "duration": null,
     "end_time": null,
     "exception": null,
     "start_time": null,
     "status": "pending"
    },
    "tags": []
   },
   "outputs": [],
   "source": [
    "train.head()"
   ]
  },
  {
   "cell_type": "code",
   "execution_count": null,
   "id": "4b949877",
   "metadata": {
    "execution": {
     "iopub.execute_input": "2022-07-17T15:30:41.988090Z",
     "iopub.status.busy": "2022-07-17T15:30:41.986738Z",
     "iopub.status.idle": "2022-07-17T15:30:41.990726Z",
     "shell.execute_reply": "2022-07-17T15:30:41.990290Z",
     "shell.execute_reply.started": "2022-07-17T15:24:26.699266Z"
    },
    "papermill": {
     "duration": null,
     "end_time": null,
     "exception": null,
     "start_time": null,
     "status": "pending"
    },
    "tags": []
   },
   "outputs": [],
   "source": [
    "train.head(10)"
   ]
  },
  {
   "cell_type": "code",
   "execution_count": null,
   "id": "4dc3fde2",
   "metadata": {
    "execution": {
     "iopub.execute_input": "2022-07-17T15:30:42.176360Z",
     "iopub.status.busy": "2022-07-17T15:30:42.174628Z",
     "iopub.status.idle": "2022-07-17T15:30:42.176985Z",
     "shell.execute_reply": "2022-07-17T15:30:42.177476Z",
     "shell.execute_reply.started": "2022-07-17T15:24:26.723600Z"
    },
    "papermill": {
     "duration": null,
     "end_time": null,
     "exception": null,
     "start_time": null,
     "status": "pending"
    },
    "tags": []
   },
   "outputs": [],
   "source": [
    "train_test_data = [train, test] \n",
    "# train va test dataset'larini birlashtirish\n",
    "\n",
    "for dataset in train_test_data:\n",
    "    dataset['Title'] = dataset['Name'].str.extract(' ([A-Za-z]+)\\.', expand=False)"
   ]
  },
  {
   "cell_type": "code",
   "execution_count": null,
   "id": "fcc655cc",
   "metadata": {
    "execution": {
     "iopub.execute_input": "2022-07-17T15:30:42.357309Z",
     "iopub.status.busy": "2022-07-17T15:30:42.356554Z",
     "iopub.status.idle": "2022-07-17T15:30:42.359300Z",
     "shell.execute_reply": "2022-07-17T15:30:42.359784Z",
     "shell.execute_reply.started": "2022-07-17T15:24:26.734267Z"
    },
    "papermill": {
     "duration": null,
     "end_time": null,
     "exception": null,
     "start_time": null,
     "status": "pending"
    },
    "tags": []
   },
   "outputs": [],
   "source": [
    "train['Title'].value_counts()"
   ]
  },
  {
   "cell_type": "code",
   "execution_count": null,
   "id": "1b451bb0",
   "metadata": {
    "execution": {
     "iopub.execute_input": "2022-07-17T15:30:42.538694Z",
     "iopub.status.busy": "2022-07-17T15:30:42.537757Z",
     "iopub.status.idle": "2022-07-17T15:30:42.541900Z",
     "shell.execute_reply": "2022-07-17T15:30:42.541500Z",
     "shell.execute_reply.started": "2022-07-17T15:24:26.745176Z"
    },
    "papermill": {
     "duration": null,
     "end_time": null,
     "exception": null,
     "start_time": null,
     "status": "pending"
    },
    "tags": []
   },
   "outputs": [],
   "source": [
    "# test data'dagi Title qatorlarining sonini aniqlash\n",
    "test['Title'].value_counts()\n"
   ]
  },
  {
   "cell_type": "markdown",
   "id": "76d48655",
   "metadata": {
    "papermill": {
     "duration": null,
     "end_time": null,
     "exception": null,
     "start_time": null,
     "status": "pending"
    },
    "tags": []
   },
   "source": [
    "# 3.1 Ma'lumotlarni vizual ko'rinshga olib kelamiz"
   ]
  },
  {
   "cell_type": "markdown",
   "id": "9d5cb7e7",
   "metadata": {
    "papermill": {
     "duration": null,
     "end_time": null,
     "exception": null,
     "start_time": null,
     "status": "pending"
    },
    "tags": []
   },
   "source": [
    "Yuqorida siz bilan ushbu jarayonlarni train data uchun qo'llagan edik. Endi test data 'da sinab ko'rmoqchimiz!"
   ]
  },
  {
   "cell_type": "code",
   "execution_count": null,
   "id": "65d7fbf7",
   "metadata": {
    "execution": {
     "iopub.execute_input": "2022-07-17T15:30:43.067509Z",
     "iopub.status.busy": "2022-07-17T15:30:43.066890Z",
     "iopub.status.idle": "2022-07-17T15:30:43.071140Z",
     "shell.execute_reply": "2022-07-17T15:30:43.070562Z",
     "shell.execute_reply.started": "2022-07-17T15:24:26.754356Z"
    },
    "papermill": {
     "duration": null,
     "end_time": null,
     "exception": null,
     "start_time": null,
     "status": "pending"
    },
    "tags": []
   },
   "outputs": [],
   "source": [
    "title_mapping = {\"Mr\": 0, \"Miss\": 1, \"Mrs\": 2, \n",
    "                 \"Master\": 3, \"Dr\": 3, \"Rev\": 3, \"Col\": 3, \"Major\": 3, \"Mlle\": 3,\"Countess\": 3,\n",
    "                 \"Ms\": 3, \"Lady\": 3, \"Jonkheer\": 3, \"Don\": 3, \"Dona\" : 3, \"Mme\": 3,\"Capt\": 3,\"Sir\": 3 }\n",
    "for dataset in train_test_data:\n",
    "    dataset['Title'] = dataset['Title'].map(title_mapping)"
   ]
  },
  {
   "cell_type": "code",
   "execution_count": null,
   "id": "fed19431",
   "metadata": {
    "execution": {
     "iopub.execute_input": "2022-07-17T15:30:43.267117Z",
     "iopub.status.busy": "2022-07-17T15:30:43.266306Z",
     "iopub.status.idle": "2022-07-17T15:30:43.269467Z",
     "shell.execute_reply": "2022-07-17T15:30:43.269869Z",
     "shell.execute_reply.started": "2022-07-17T15:24:26.764897Z"
    },
    "papermill": {
     "duration": null,
     "end_time": null,
     "exception": null,
     "start_time": null,
     "status": "pending"
    },
    "tags": []
   },
   "outputs": [],
   "source": [
    "train.head()\n"
   ]
  },
  {
   "cell_type": "code",
   "execution_count": null,
   "id": "ff8b0a35",
   "metadata": {
    "execution": {
     "iopub.execute_input": "2022-07-17T15:30:43.458270Z",
     "iopub.status.busy": "2022-07-17T15:30:43.457349Z",
     "iopub.status.idle": "2022-07-17T15:30:43.460894Z",
     "shell.execute_reply": "2022-07-17T15:30:43.461317Z",
     "shell.execute_reply.started": "2022-07-17T15:24:26.785438Z"
    },
    "papermill": {
     "duration": null,
     "end_time": null,
     "exception": null,
     "start_time": null,
     "status": "pending"
    },
    "tags": []
   },
   "outputs": [],
   "source": [
    "test.head()\n"
   ]
  },
  {
   "cell_type": "code",
   "execution_count": null,
   "id": "73fa8c90",
   "metadata": {
    "execution": {
     "iopub.execute_input": "2022-07-17T15:30:43.643011Z",
     "iopub.status.busy": "2022-07-17T15:30:43.642174Z",
     "iopub.status.idle": "2022-07-17T15:30:43.864481Z",
     "shell.execute_reply": "2022-07-17T15:30:43.865143Z",
     "shell.execute_reply.started": "2022-07-17T15:24:26.803356Z"
    },
    "papermill": {
     "duration": null,
     "end_time": null,
     "exception": null,
     "start_time": null,
     "status": "pending"
    },
    "tags": []
   },
   "outputs": [],
   "source": [
    "bar_chart('Title')"
   ]
  },
  {
   "cell_type": "code",
   "execution_count": null,
   "id": "fa7d626c",
   "metadata": {
    "execution": {
     "iopub.execute_input": "2022-07-17T15:30:44.050147Z",
     "iopub.status.busy": "2022-07-17T15:30:44.049278Z",
     "iopub.status.idle": "2022-07-17T15:30:44.051180Z",
     "shell.execute_reply": "2022-07-17T15:30:44.051579Z",
     "shell.execute_reply.started": "2022-07-17T15:24:27.028797Z"
    },
    "papermill": {
     "duration": null,
     "end_time": null,
     "exception": null,
     "start_time": null,
     "status": "pending"
    },
    "tags": []
   },
   "outputs": [],
   "source": [
    "# delete unnecessary feature from dataset\n",
    "train.drop('Name', axis=1, inplace=True)\n",
    "test.drop('Name', axis=1, inplace=True)\n"
   ]
  },
  {
   "cell_type": "code",
   "execution_count": null,
   "id": "b4426109",
   "metadata": {
    "execution": {
     "iopub.execute_input": "2022-07-17T15:30:44.241392Z",
     "iopub.status.busy": "2022-07-17T15:30:44.240593Z",
     "iopub.status.idle": "2022-07-17T15:30:44.243707Z",
     "shell.execute_reply": "2022-07-17T15:30:44.244622Z",
     "shell.execute_reply.started": "2022-07-17T15:24:27.038218Z"
    },
    "papermill": {
     "duration": null,
     "end_time": null,
     "exception": null,
     "start_time": null,
     "status": "pending"
    },
    "tags": []
   },
   "outputs": [],
   "source": [
    "train.head()"
   ]
  },
  {
   "cell_type": "code",
   "execution_count": null,
   "id": "16d428a2",
   "metadata": {
    "execution": {
     "iopub.execute_input": "2022-07-17T15:30:44.436464Z",
     "iopub.status.busy": "2022-07-17T15:30:44.435809Z",
     "iopub.status.idle": "2022-07-17T15:30:44.438752Z",
     "shell.execute_reply": "2022-07-17T15:30:44.439173Z",
     "shell.execute_reply.started": "2022-07-17T15:24:27.058597Z"
    },
    "papermill": {
     "duration": null,
     "end_time": null,
     "exception": null,
     "start_time": null,
     "status": "pending"
    },
    "tags": []
   },
   "outputs": [],
   "source": [
    "test.head()"
   ]
  },
  {
   "cell_type": "code",
   "execution_count": null,
   "id": "fd0e043d",
   "metadata": {
    "execution": {
     "iopub.execute_input": "2022-07-17T15:30:44.624046Z",
     "iopub.status.busy": "2022-07-17T15:30:44.622428Z",
     "iopub.status.idle": "2022-07-17T15:30:44.624622Z",
     "shell.execute_reply": "2022-07-17T15:30:44.625052Z",
     "shell.execute_reply.started": "2022-07-17T15:24:27.079447Z"
    },
    "papermill": {
     "duration": null,
     "end_time": null,
     "exception": null,
     "start_time": null,
     "status": "pending"
    },
    "tags": []
   },
   "outputs": [],
   "source": [
    "sex_mapping = {\"male\": 0, \"female\": 1}\n",
    "for dataset in train_test_data:\n",
    "    dataset['Sex'] = dataset['Sex'].map(sex_mapping)\n"
   ]
  },
  {
   "cell_type": "code",
   "execution_count": null,
   "id": "b48a8152",
   "metadata": {
    "execution": {
     "iopub.execute_input": "2022-07-17T15:30:44.818449Z",
     "iopub.status.busy": "2022-07-17T15:30:44.817483Z",
     "iopub.status.idle": "2022-07-17T15:30:45.019665Z",
     "shell.execute_reply": "2022-07-17T15:30:45.020223Z",
     "shell.execute_reply.started": "2022-07-17T15:24:27.087695Z"
    },
    "papermill": {
     "duration": null,
     "end_time": null,
     "exception": null,
     "start_time": null,
     "status": "pending"
    },
    "tags": []
   },
   "outputs": [],
   "source": [
    "bar_chart('Sex')\n"
   ]
  },
  {
   "cell_type": "code",
   "execution_count": null,
   "id": "ca92b0a4",
   "metadata": {
    "execution": {
     "iopub.execute_input": "2022-07-17T15:30:45.218520Z",
     "iopub.status.busy": "2022-07-17T15:30:45.217226Z",
     "iopub.status.idle": "2022-07-17T15:30:45.220657Z",
     "shell.execute_reply": "2022-07-17T15:30:45.221045Z",
     "shell.execute_reply.started": "2022-07-17T15:24:27.293494Z"
    },
    "papermill": {
     "duration": null,
     "end_time": null,
     "exception": null,
     "start_time": null,
     "status": "pending"
    },
    "tags": []
   },
   "outputs": [],
   "source": [
    "train.head(10)"
   ]
  },
  {
   "cell_type": "code",
   "execution_count": null,
   "id": "5022e3f6",
   "metadata": {
    "execution": {
     "iopub.execute_input": "2022-07-17T15:30:45.411018Z",
     "iopub.status.busy": "2022-07-17T15:30:45.410191Z",
     "iopub.status.idle": "2022-07-17T15:30:45.414820Z",
     "shell.execute_reply": "2022-07-17T15:30:45.414401Z",
     "shell.execute_reply.started": "2022-07-17T15:24:27.310663Z"
    },
    "papermill": {
     "duration": null,
     "end_time": null,
     "exception": null,
     "start_time": null,
     "status": "pending"
    },
    "tags": []
   },
   "outputs": [],
   "source": [
    "# yetishmayotgan yoshni har bir nom uchun o'rtacha\n",
    "# yosh bilan to'ldiring (Mr, Mrs, Miss, Others)\n",
    "train[\"Age\"].fillna(train.groupby(\"Title\")[\"Age\"].transform(\"median\"), inplace=True)\n",
    "test[\"Age\"].fillna(test.groupby(\"Title\")[\"Age\"].transform(\"median\"), inplace=True)"
   ]
  },
  {
   "cell_type": "code",
   "execution_count": null,
   "id": "60e40d7c",
   "metadata": {
    "execution": {
     "iopub.execute_input": "2022-07-17T15:30:45.605131Z",
     "iopub.status.busy": "2022-07-17T15:30:45.604182Z",
     "iopub.status.idle": "2022-07-17T15:30:45.607549Z",
     "shell.execute_reply": "2022-07-17T15:30:45.607939Z",
     "shell.execute_reply.started": "2022-07-17T15:24:27.322831Z"
    },
    "papermill": {
     "duration": null,
     "end_time": null,
     "exception": null,
     "start_time": null,
     "status": "pending"
    },
    "tags": []
   },
   "outputs": [],
   "source": [
    "# train data'ning boshidagi 30 qatorni\n",
    "# to'ldirgan holda chop etish\n",
    "train.head(30)\n",
    "train.groupby(\"Title\")[\"Age\"].transform(\"median\")"
   ]
  },
  {
   "cell_type": "code",
   "execution_count": null,
   "id": "028fea6d",
   "metadata": {
    "execution": {
     "iopub.execute_input": "2022-07-17T15:30:45.798761Z",
     "iopub.status.busy": "2022-07-17T15:30:45.797900Z",
     "iopub.status.idle": "2022-07-17T15:30:46.267174Z",
     "shell.execute_reply": "2022-07-17T15:30:46.266705Z",
     "shell.execute_reply.started": "2022-07-17T15:24:27.341641Z"
    },
    "papermill": {
     "duration": null,
     "end_time": null,
     "exception": null,
     "start_time": null,
     "status": "pending"
    },
    "tags": []
   },
   "outputs": [],
   "source": [
    "# yosh oralig'ida zararlangan va vafot etganlarni ko'rish\n",
    "facet = sns.FacetGrid(train, hue=\"Survived\",aspect=4)\n",
    "facet.map(sns.kdeplot,'Age',shade= True)\n",
    "facet.set(xlim=(0, train['Age'].max()))\n",
    "facet.add_legend()\n",
    " \n",
    "plt.show()\n"
   ]
  },
  {
   "cell_type": "code",
   "execution_count": null,
   "id": "b6abb43e",
   "metadata": {
    "execution": {
     "iopub.execute_input": "2022-07-17T15:30:46.458369Z",
     "iopub.status.busy": "2022-07-17T15:30:46.457559Z",
     "iopub.status.idle": "2022-07-17T15:30:46.987132Z",
     "shell.execute_reply": "2022-07-17T15:30:46.987554Z",
     "shell.execute_reply.started": "2022-07-17T15:24:27.800275Z"
    },
    "papermill": {
     "duration": null,
     "end_time": null,
     "exception": null,
     "start_time": null,
     "status": "pending"
    },
    "tags": []
   },
   "outputs": [],
   "source": [
    "# 0 dan 20 yosh oralig'idagi insonlarning zararlanish \n",
    "# va vafot etishlarini ko'rish\n",
    "facet = sns.FacetGrid(train, hue=\"Survived\",aspect=4)\n",
    "facet.map(sns.kdeplot,'Age',shade= True)\n",
    "facet.set(xlim=(0, train['Age'].max()))\n",
    "facet.add_legend()\n",
    "plt.xlim(0, 20)"
   ]
  },
  {
   "cell_type": "code",
   "execution_count": null,
   "id": "646444df",
   "metadata": {
    "execution": {
     "iopub.execute_input": "2022-07-17T15:30:47.185957Z",
     "iopub.status.busy": "2022-07-17T15:30:47.185206Z",
     "iopub.status.idle": "2022-07-17T15:30:47.878902Z",
     "shell.execute_reply": "2022-07-17T15:30:47.879669Z",
     "shell.execute_reply.started": "2022-07-17T15:24:28.297085Z"
    },
    "papermill": {
     "duration": null,
     "end_time": null,
     "exception": null,
     "start_time": null,
     "status": "pending"
    },
    "tags": []
   },
   "outputs": [],
   "source": [
    "# 20 yoshdan 30 yoshgacha bo'lganlarning \n",
    "# zararlanish va vafot etish ko'rsatkichlari\n",
    "facet = sns.FacetGrid(train, hue=\"Survived\",aspect=4)\n",
    "facet.map(sns.kdeplot,'Age',shade= True)\n",
    "facet.set(xlim=(0, train['Age'].max()))\n",
    "facet.add_legend()\n",
    "plt.xlim(20, 30)\n"
   ]
  },
  {
   "cell_type": "code",
   "execution_count": null,
   "id": "2fd78dd4",
   "metadata": {
    "execution": {
     "iopub.execute_input": "2022-07-17T15:30:48.209061Z",
     "iopub.status.busy": "2022-07-17T15:30:48.208221Z",
     "iopub.status.idle": "2022-07-17T15:30:48.725427Z",
     "shell.execute_reply": "2022-07-17T15:30:48.725846Z",
     "shell.execute_reply.started": "2022-07-17T15:24:28.886357Z"
    },
    "papermill": {
     "duration": null,
     "end_time": null,
     "exception": null,
     "start_time": null,
     "status": "pending"
    },
    "tags": []
   },
   "outputs": [],
   "source": [
    "# 30 yoshdan 40 yoshgacha bo'lganlarning\n",
    "# zararlanish va vafot etish ko'rsatkichlari\n",
    "facet = sns.FacetGrid(train, hue=\"Survived\",aspect=4)\n",
    "facet.map(sns.kdeplot,'Age',shade= True)\n",
    "facet.set(xlim=(0, train['Age'].max()))\n",
    "facet.add_legend()\n",
    "plt.xlim(30, 40)"
   ]
  },
  {
   "cell_type": "code",
   "execution_count": null,
   "id": "635e4fd8",
   "metadata": {
    "execution": {
     "iopub.execute_input": "2022-07-17T15:30:48.927637Z",
     "iopub.status.busy": "2022-07-17T15:30:48.926381Z",
     "iopub.status.idle": "2022-07-17T15:30:49.433034Z",
     "shell.execute_reply": "2022-07-17T15:30:49.433496Z",
     "shell.execute_reply.started": "2022-07-17T15:24:29.362281Z"
    },
    "papermill": {
     "duration": null,
     "end_time": null,
     "exception": null,
     "start_time": null,
     "status": "pending"
    },
    "tags": []
   },
   "outputs": [],
   "source": [
    "# 40 yoshdan 60 yoshgacha bo'lganlarning\n",
    "# zararlanish va vafot etish ko'rsatkichlari\n",
    "facet = sns.FacetGrid(train, hue=\"Survived\",aspect=4)\n",
    "facet.map(sns.kdeplot,'Age',shade= True)\n",
    "facet.set(xlim=(0, train['Age'].max()))\n",
    "facet.add_legend()\n",
    "plt.xlim(40, 60)"
   ]
  },
  {
   "cell_type": "code",
   "execution_count": null,
   "id": "22e259dc",
   "metadata": {
    "execution": {
     "iopub.execute_input": "2022-07-17T15:30:49.639849Z",
     "iopub.status.busy": "2022-07-17T15:30:49.639038Z",
     "iopub.status.idle": "2022-07-17T15:30:50.165027Z",
     "shell.execute_reply": "2022-07-17T15:30:50.164123Z",
     "shell.execute_reply.started": "2022-07-17T15:24:29.864567Z"
    },
    "papermill": {
     "duration": null,
     "end_time": null,
     "exception": null,
     "start_time": null,
     "status": "pending"
    },
    "tags": []
   },
   "outputs": [],
   "source": [
    "facet = sns.FacetGrid(train, hue=\"Survived\",aspect=4)\n",
    "facet.map(sns.kdeplot,'Age',shade= True)\n",
    "facet.set(xlim=(0, train['Age'].max()))\n",
    "facet.add_legend()\n",
    "plt.xlim(40, 60)\n"
   ]
  },
  {
   "cell_type": "code",
   "execution_count": null,
   "id": "e12eb316",
   "metadata": {
    "execution": {
     "iopub.execute_input": "2022-07-17T15:30:50.384509Z",
     "iopub.status.busy": "2022-07-17T15:30:50.383860Z",
     "iopub.status.idle": "2022-07-17T15:30:50.886452Z",
     "shell.execute_reply": "2022-07-17T15:30:50.885937Z",
     "shell.execute_reply.started": "2022-07-17T15:24:30.364498Z"
    },
    "papermill": {
     "duration": null,
     "end_time": null,
     "exception": null,
     "start_time": null,
     "status": "pending"
    },
    "tags": []
   },
   "outputs": [],
   "source": [
    "# 60 yoshdan 80 yoshgacha bo'lganlarning \n",
    "# zararlanish va vafot etish ko'rsatkichlari\n",
    "facet = sns.FacetGrid(train, hue=\"Survived\",aspect=4)\n",
    "facet.map(sns.kdeplot,'Age',shade= True)\n",
    "facet.set(xlim=(0, train['Age'].max()))\n",
    "facet.add_legend()\n",
    "plt.xlim(60)\n"
   ]
  },
  {
   "cell_type": "code",
   "execution_count": null,
   "id": "3e269afe",
   "metadata": {
    "execution": {
     "iopub.execute_input": "2022-07-17T15:30:51.103881Z",
     "iopub.status.busy": "2022-07-17T15:30:51.098184Z",
     "iopub.status.idle": "2022-07-17T15:30:51.108166Z",
     "shell.execute_reply": "2022-07-17T15:30:51.107686Z",
     "shell.execute_reply.started": "2022-07-17T15:24:30.857067Z"
    },
    "papermill": {
     "duration": null,
     "end_time": null,
     "exception": null,
     "start_time": null,
     "status": "pending"
    },
    "tags": []
   },
   "outputs": [],
   "source": [
    "train.info()"
   ]
  },
  {
   "cell_type": "code",
   "execution_count": null,
   "id": "912a1993",
   "metadata": {
    "execution": {
     "iopub.execute_input": "2022-07-17T15:30:51.321375Z",
     "iopub.status.busy": "2022-07-17T15:30:51.320522Z",
     "iopub.status.idle": "2022-07-17T15:30:51.330509Z",
     "shell.execute_reply": "2022-07-17T15:30:51.329826Z",
     "shell.execute_reply.started": "2022-07-17T15:24:30.881046Z"
    },
    "papermill": {
     "duration": null,
     "end_time": null,
     "exception": null,
     "start_time": null,
     "status": "pending"
    },
    "tags": []
   },
   "outputs": [],
   "source": [
    "test.info()\n"
   ]
  },
  {
   "cell_type": "code",
   "execution_count": null,
   "id": "2bc1a808",
   "metadata": {
    "execution": {
     "iopub.execute_input": "2022-07-17T15:30:51.551764Z",
     "iopub.status.busy": "2022-07-17T15:30:51.540911Z",
     "iopub.status.idle": "2022-07-17T15:30:51.554427Z",
     "shell.execute_reply": "2022-07-17T15:30:51.553954Z",
     "shell.execute_reply.started": "2022-07-17T15:24:30.898273Z"
    },
    "papermill": {
     "duration": null,
     "end_time": null,
     "exception": null,
     "start_time": null,
     "status": "pending"
    },
    "tags": []
   },
   "outputs": [],
   "source": [
    "for dataset in train_test_data:\n",
    "    dataset.loc[ dataset['Age'] <= 16, 'Age'] = 0\n",
    "    dataset.loc[(dataset['Age'] > 16) & (dataset['Age'] <= 26), 'Age'] = 1\n",
    "    dataset.loc[(dataset['Age'] > 26) & (dataset['Age'] <= 36), 'Age'] = 2\n",
    "    dataset.loc[(dataset['Age'] > 36) & (dataset['Age'] <= 62), 'Age'] = 3\n",
    "    dataset.loc[ dataset['Age'] > 62, 'Age'] = 1"
   ]
  },
  {
   "cell_type": "code",
   "execution_count": null,
   "id": "c6ea2f54",
   "metadata": {
    "execution": {
     "iopub.execute_input": "2022-07-17T15:30:51.774816Z",
     "iopub.status.busy": "2022-07-17T15:30:51.765165Z",
     "iopub.status.idle": "2022-07-17T15:30:51.778316Z",
     "shell.execute_reply": "2022-07-17T15:30:51.777762Z",
     "shell.execute_reply.started": "2022-07-17T15:24:30.915405Z"
    },
    "papermill": {
     "duration": null,
     "end_time": null,
     "exception": null,
     "start_time": null,
     "status": "pending"
    },
    "tags": []
   },
   "outputs": [],
   "source": [
    "train.head()\n"
   ]
  },
  {
   "cell_type": "code",
   "execution_count": null,
   "id": "38e7e0ba",
   "metadata": {
    "execution": {
     "iopub.execute_input": "2022-07-17T15:30:51.996756Z",
     "iopub.status.busy": "2022-07-17T15:30:51.988872Z",
     "iopub.status.idle": "2022-07-17T15:30:52.216791Z",
     "shell.execute_reply": "2022-07-17T15:30:52.217201Z",
     "shell.execute_reply.started": "2022-07-17T15:24:30.932038Z"
    },
    "papermill": {
     "duration": null,
     "end_time": null,
     "exception": null,
     "start_time": null,
     "status": "pending"
    },
    "tags": []
   },
   "outputs": [],
   "source": [
    "bar_chart('Age')"
   ]
  },
  {
   "cell_type": "code",
   "execution_count": null,
   "id": "3087ac23",
   "metadata": {
    "execution": {
     "iopub.execute_input": "2022-07-17T15:30:52.435223Z",
     "iopub.status.busy": "2022-07-17T15:30:52.434372Z",
     "iopub.status.idle": "2022-07-17T15:30:52.662420Z",
     "shell.execute_reply": "2022-07-17T15:30:52.662790Z",
     "shell.execute_reply.started": "2022-07-17T15:24:31.161611Z"
    },
    "papermill": {
     "duration": null,
     "end_time": null,
     "exception": null,
     "start_time": null,
     "status": "pending"
    },
    "tags": []
   },
   "outputs": [],
   "source": [
    "# Embarked ustunidagi missing qiymatlarni to'ldirish uchun chipta \n",
    "# class'laridan foydalanamiz  \n",
    "Pclass1 = train[train['Pclass']==1]['Embarked'].value_counts()\n",
    "Pclass2 = train[train['Pclass']==2]['Embarked'].value_counts()\n",
    "Pclass3 = train[train['Pclass']==3]['Embarked'].value_counts()\n",
    "df = pd.DataFrame([Pclass1, Pclass2, Pclass3])\n",
    "df.index = ['1st class','2nd class', '3rd class']\n",
    "df.plot(kind='bar',stacked=True, figsize=(10,5))"
   ]
  },
  {
   "cell_type": "code",
   "execution_count": null,
   "id": "7e279c80",
   "metadata": {
    "execution": {
     "iopub.execute_input": "2022-07-17T15:30:52.879155Z",
     "iopub.status.busy": "2022-07-17T15:30:52.878129Z",
     "iopub.status.idle": "2022-07-17T15:30:52.879889Z",
     "shell.execute_reply": "2022-07-17T15:30:52.880310Z",
     "shell.execute_reply.started": "2022-07-17T15:24:31.397298Z"
    },
    "papermill": {
     "duration": null,
     "end_time": null,
     "exception": null,
     "start_time": null,
     "status": "pending"
    },
    "tags": []
   },
   "outputs": [],
   "source": [
    "# bar_chart dagi ma'lumotdan foydalanib biz Embarked dagi missing value ni to'ldiramiz\n",
    "for dataset in train_test_data:\n",
    "    dataset['Embarked'] = dataset['Embarked'].fillna('S')\n"
   ]
  },
  {
   "cell_type": "code",
   "execution_count": null,
   "id": "3b9eaf95",
   "metadata": {
    "execution": {
     "iopub.execute_input": "2022-07-17T15:30:53.116837Z",
     "iopub.status.busy": "2022-07-17T15:30:53.115934Z",
     "iopub.status.idle": "2022-07-17T15:30:53.119968Z",
     "shell.execute_reply": "2022-07-17T15:30:53.120505Z",
     "shell.execute_reply.started": "2022-07-17T15:24:31.404941Z"
    },
    "papermill": {
     "duration": null,
     "end_time": null,
     "exception": null,
     "start_time": null,
     "status": "pending"
    },
    "tags": []
   },
   "outputs": [],
   "source": [
    "train.head()"
   ]
  },
  {
   "cell_type": "code",
   "execution_count": null,
   "id": "23765bca",
   "metadata": {
    "execution": {
     "iopub.execute_input": "2022-07-17T15:30:53.355597Z",
     "iopub.status.busy": "2022-07-17T15:30:53.351934Z",
     "iopub.status.idle": "2022-07-17T15:30:53.358298Z",
     "shell.execute_reply": "2022-07-17T15:30:53.357649Z",
     "shell.execute_reply.started": "2022-07-17T15:24:31.422966Z"
    },
    "papermill": {
     "duration": null,
     "end_time": null,
     "exception": null,
     "start_time": null,
     "status": "pending"
    },
    "tags": []
   },
   "outputs": [],
   "source": [
    "# Embarked ustunidagi S, C, Q qiymatlarini almashtirib olamiz\n",
    "embarked_mapping = {\"S\": 0, \"C\": 1, \"Q\": 2}\n",
    "for dataset in train_test_data:\n",
    "    dataset['Embarked'] = dataset['Embarked'].map(embarked_mapping)"
   ]
  },
  {
   "cell_type": "code",
   "execution_count": null,
   "id": "1e67a4ed",
   "metadata": {
    "execution": {
     "iopub.execute_input": "2022-07-17T15:30:53.575886Z",
     "iopub.status.busy": "2022-07-17T15:30:53.575060Z",
     "iopub.status.idle": "2022-07-17T15:30:53.590266Z",
     "shell.execute_reply": "2022-07-17T15:30:53.589806Z",
     "shell.execute_reply.started": "2022-07-17T15:24:31.433396Z"
    },
    "papermill": {
     "duration": null,
     "end_time": null,
     "exception": null,
     "start_time": null,
     "status": "pending"
    },
    "tags": []
   },
   "outputs": [],
   "source": [
    "# yetishmayotgan tarifni har bir Pclass uchun\n",
    "# o'rtacha tarif bilan to'ldirib olamiz\n",
    "train[\"Fare\"].fillna(train.groupby(\"Pclass\")[\"Fare\"].transform(\"median\"), inplace=True)\n",
    "test[\"Fare\"].fillna(test.groupby(\"Pclass\")[\"Fare\"].transform(\"median\"), inplace=True)\n",
    "train.head(10)"
   ]
  },
  {
   "cell_type": "code",
   "execution_count": null,
   "id": "e37b731e",
   "metadata": {
    "execution": {
     "iopub.execute_input": "2022-07-17T15:30:53.808625Z",
     "iopub.status.busy": "2022-07-17T15:30:53.807796Z",
     "iopub.status.idle": "2022-07-17T15:30:54.247778Z",
     "shell.execute_reply": "2022-07-17T15:30:54.248235Z",
     "shell.execute_reply.started": "2022-07-17T15:24:31.456363Z"
    },
    "papermill": {
     "duration": null,
     "end_time": null,
     "exception": null,
     "start_time": null,
     "status": "pending"
    },
    "tags": []
   },
   "outputs": [],
   "source": [
    "# Qaysi class dan foydalangan yo'lovchilar \n",
    "# ko'proq vafot etganliklarini aniqlaymiz\n",
    "facet = sns.FacetGrid(train, hue=\"Survived\",aspect=4)\n",
    "facet.map(sns.kdeplot,'Fare',shade= True)\n",
    "facet.set(xlim=(0, train['Fare'].max()))\n",
    "facet.add_legend()  \n",
    " \n",
    "plt.show()\n"
   ]
  },
  {
   "cell_type": "code",
   "execution_count": null,
   "id": "5a2d28e4",
   "metadata": {
    "execution": {
     "iopub.execute_input": "2022-07-17T15:30:54.470576Z",
     "iopub.status.busy": "2022-07-17T15:30:54.466910Z",
     "iopub.status.idle": "2022-07-17T15:30:54.978391Z",
     "shell.execute_reply": "2022-07-17T15:30:54.977833Z",
     "shell.execute_reply.started": "2022-07-17T15:24:31.903279Z"
    },
    "papermill": {
     "duration": null,
     "end_time": null,
     "exception": null,
     "start_time": null,
     "status": "pending"
    },
    "tags": []
   },
   "outputs": [],
   "source": [
    "facet = sns.FacetGrid(train, hue=\"Survived\",aspect=4)\n",
    "facet.map(sns.kdeplot,'Fare',shade= True)\n",
    "facet.set(xlim=(0, train['Fare'].max()))\n",
    "facet.add_legend()\n",
    "plt.xlim(0, 20)\n"
   ]
  },
  {
   "cell_type": "code",
   "execution_count": null,
   "id": "9e0bdd87",
   "metadata": {
    "execution": {
     "iopub.execute_input": "2022-07-17T15:30:55.203631Z",
     "iopub.status.busy": "2022-07-17T15:30:55.202811Z",
     "iopub.status.idle": "2022-07-17T15:30:55.706056Z",
     "shell.execute_reply": "2022-07-17T15:30:55.705595Z",
     "shell.execute_reply.started": "2022-07-17T15:24:32.398397Z"
    },
    "papermill": {
     "duration": null,
     "end_time": null,
     "exception": null,
     "start_time": null,
     "status": "pending"
    },
    "tags": []
   },
   "outputs": [],
   "source": [
    "facet = sns.FacetGrid(train, hue=\"Survived\",aspect=4)\n",
    "facet.map(sns.kdeplot,'Fare',shade= True)\n",
    "facet.set(xlim=(0, train['Fare'].max()))\n",
    "facet.add_legend()\n",
    "plt.xlim(0, 30)\n"
   ]
  },
  {
   "cell_type": "code",
   "execution_count": null,
   "id": "3789a7c5",
   "metadata": {
    "execution": {
     "iopub.execute_input": "2022-07-17T15:30:55.930348Z",
     "iopub.status.busy": "2022-07-17T15:30:55.929522Z",
     "iopub.status.idle": "2022-07-17T15:30:56.402630Z",
     "shell.execute_reply": "2022-07-17T15:30:56.403047Z",
     "shell.execute_reply.started": "2022-07-17T15:24:32.891486Z"
    },
    "papermill": {
     "duration": null,
     "end_time": null,
     "exception": null,
     "start_time": null,
     "status": "pending"
    },
    "tags": []
   },
   "outputs": [],
   "source": [
    "facet = sns.FacetGrid(train, hue=\"Survived\",aspect=4)\n",
    "facet.map(sns.kdeplot,'Fare',shade= True)\n",
    "facet.set(xlim=(0, train['Fare'].max()))\n",
    "facet.add_legend()\n",
    "plt.xlim(0)\n"
   ]
  },
  {
   "cell_type": "code",
   "execution_count": null,
   "id": "659c6b7e",
   "metadata": {
    "execution": {
     "iopub.execute_input": "2022-07-17T15:30:56.639435Z",
     "iopub.status.busy": "2022-07-17T15:30:56.637686Z",
     "iopub.status.idle": "2022-07-17T15:30:56.640018Z",
     "shell.execute_reply": "2022-07-17T15:30:56.640429Z",
     "shell.execute_reply.started": "2022-07-17T15:24:33.558583Z"
    },
    "papermill": {
     "duration": null,
     "end_time": null,
     "exception": null,
     "start_time": null,
     "status": "pending"
    },
    "tags": []
   },
   "outputs": [],
   "source": [
    "# bizga berilgan numerical chipta narxlarini \n",
    "# kategorik narxlarga o'girib olamiz\n",
    "for dataset in train_test_data:\n",
    "    dataset.loc[ dataset['Fare'] <= 17, 'Fare'] = 0\n",
    "    dataset.loc[(dataset['Fare'] > 17) & (dataset['Fare'] <= 30), 'Fare'] = 1\n",
    "    dataset.loc[(dataset['Fare'] > 30) & (dataset['Fare'] <= 100), 'Fare'] = 2\n",
    "    dataset.loc[ dataset['Fare'] > 100, 'Fare'] = 3"
   ]
  },
  {
   "cell_type": "code",
   "execution_count": null,
   "id": "9cc18200",
   "metadata": {
    "execution": {
     "iopub.execute_input": "2022-07-17T15:30:56.882038Z",
     "iopub.status.busy": "2022-07-17T15:30:56.881372Z",
     "iopub.status.idle": "2022-07-17T15:30:56.884242Z",
     "shell.execute_reply": "2022-07-17T15:30:56.884638Z",
     "shell.execute_reply.started": "2022-07-17T15:24:33.574774Z"
    },
    "papermill": {
     "duration": null,
     "end_time": null,
     "exception": null,
     "start_time": null,
     "status": "pending"
    },
    "tags": []
   },
   "outputs": [],
   "source": [
    "train.head()\n"
   ]
  },
  {
   "cell_type": "code",
   "execution_count": null,
   "id": "470f8984",
   "metadata": {
    "execution": {
     "iopub.execute_input": "2022-07-17T15:30:57.116913Z",
     "iopub.status.busy": "2022-07-17T15:30:57.116391Z",
     "iopub.status.idle": "2022-07-17T15:30:57.122184Z",
     "shell.execute_reply": "2022-07-17T15:30:57.121713Z",
     "shell.execute_reply.started": "2022-07-17T15:24:33.590467Z"
    },
    "papermill": {
     "duration": null,
     "end_time": null,
     "exception": null,
     "start_time": null,
     "status": "pending"
    },
    "tags": []
   },
   "outputs": [],
   "source": [
    "train.Cabin.value_counts()"
   ]
  },
  {
   "cell_type": "code",
   "execution_count": null,
   "id": "63918b97",
   "metadata": {
    "execution": {
     "iopub.execute_input": "2022-07-17T15:30:57.355183Z",
     "iopub.status.busy": "2022-07-17T15:30:57.354320Z",
     "iopub.status.idle": "2022-07-17T15:30:57.356215Z",
     "shell.execute_reply": "2022-07-17T15:30:57.356626Z",
     "shell.execute_reply.started": "2022-07-17T15:24:33.603620Z"
    },
    "papermill": {
     "duration": null,
     "end_time": null,
     "exception": null,
     "start_time": null,
     "status": "pending"
    },
    "tags": []
   },
   "outputs": [],
   "source": [
    "for dataset in train_test_data:\n",
    "    dataset['Cabin'] = dataset['Cabin'].str[:1]\n"
   ]
  },
  {
   "cell_type": "code",
   "execution_count": null,
   "id": "17c63b74",
   "metadata": {
    "execution": {
     "iopub.execute_input": "2022-07-17T15:30:57.589837Z",
     "iopub.status.busy": "2022-07-17T15:30:57.588933Z",
     "iopub.status.idle": "2022-07-17T15:30:57.890206Z",
     "shell.execute_reply": "2022-07-17T15:30:57.889745Z",
     "shell.execute_reply.started": "2022-07-17T15:24:33.611467Z"
    },
    "papermill": {
     "duration": null,
     "end_time": null,
     "exception": null,
     "start_time": null,
     "status": "pending"
    },
    "tags": []
   },
   "outputs": [],
   "source": [
    "Pclass1 = train[train['Pclass']==1]['Cabin'].value_counts()\n",
    "Pclass2 = train[train['Pclass']==2]['Cabin'].value_counts()\n",
    "Pclass3 = train[train['Pclass']==3]['Cabin'].value_counts()\n",
    "df = pd.DataFrame([Pclass1, Pclass2, Pclass3])\n",
    "df.index = ['1st class','2nd class', '3rd class']\n",
    "df.plot(kind='bar',stacked=True, figsize=(10,5))\n"
   ]
  },
  {
   "cell_type": "code",
   "execution_count": null,
   "id": "73d16260",
   "metadata": {
    "execution": {
     "iopub.execute_input": "2022-07-17T15:30:58.128269Z",
     "iopub.status.busy": "2022-07-17T15:30:58.127694Z",
     "iopub.status.idle": "2022-07-17T15:30:58.131364Z",
     "shell.execute_reply": "2022-07-17T15:30:58.130896Z",
     "shell.execute_reply.started": "2022-07-17T15:24:33.918545Z"
    },
    "papermill": {
     "duration": null,
     "end_time": null,
     "exception": null,
     "start_time": null,
     "status": "pending"
    },
    "tags": []
   },
   "outputs": [],
   "source": [
    "cabin_mapping = {\"A\": 0, \"B\": 0.4, \"C\": 0.8, \"D\": 1.2, \"E\": 1.6, \"F\": 2, \"G\": 2.4, \"T\": 2.8}\n",
    "for dataset in train_test_data:\n",
    "    dataset['Cabin'] = dataset['Cabin'].map(cabin_mapping)"
   ]
  },
  {
   "cell_type": "code",
   "execution_count": null,
   "id": "f4c475aa",
   "metadata": {
    "execution": {
     "iopub.execute_input": "2022-07-17T15:30:58.375981Z",
     "iopub.status.busy": "2022-07-17T15:30:58.375287Z",
     "iopub.status.idle": "2022-07-17T15:30:58.378680Z",
     "shell.execute_reply": "2022-07-17T15:30:58.378175Z",
     "shell.execute_reply.started": "2022-07-17T15:24:33.929933Z"
    },
    "papermill": {
     "duration": null,
     "end_time": null,
     "exception": null,
     "start_time": null,
     "status": "pending"
    },
    "tags": []
   },
   "outputs": [],
   "source": [
    "# fill missing Fare with median fare for each Pclass\n",
    "train[\"Cabin\"].fillna(train.groupby(\"Pclass\")[\"Cabin\"].transform(\"median\"), inplace=True)\n",
    "test[\"Cabin\"].fillna(test.groupby(\"Pclass\")[\"Cabin\"].transform(\"median\"), inplace=True)"
   ]
  },
  {
   "cell_type": "code",
   "execution_count": null,
   "id": "90c467e3",
   "metadata": {
    "execution": {
     "iopub.execute_input": "2022-07-17T15:30:58.761743Z",
     "iopub.status.busy": "2022-07-17T15:30:58.760736Z",
     "iopub.status.idle": "2022-07-17T15:30:58.765885Z",
     "shell.execute_reply": "2022-07-17T15:30:58.766658Z",
     "shell.execute_reply.started": "2022-07-17T15:24:33.941658Z"
    },
    "papermill": {
     "duration": null,
     "end_time": null,
     "exception": null,
     "start_time": null,
     "status": "pending"
    },
    "tags": []
   },
   "outputs": [],
   "source": [
    "train[\"FamilySize\"] = train[\"SibSp\"] + train[\"Parch\"] + 1\n",
    "test[\"FamilySize\"] = test[\"SibSp\"] + test[\"Parch\"] + 1\n"
   ]
  },
  {
   "cell_type": "code",
   "execution_count": null,
   "id": "017d7165",
   "metadata": {
    "execution": {
     "iopub.execute_input": "2022-07-17T15:30:59.362485Z",
     "iopub.status.busy": "2022-07-17T15:30:59.361629Z",
     "iopub.status.idle": "2022-07-17T15:31:00.259922Z",
     "shell.execute_reply": "2022-07-17T15:31:00.260382Z",
     "shell.execute_reply.started": "2022-07-17T15:24:33.951925Z"
    },
    "papermill": {
     "duration": null,
     "end_time": null,
     "exception": null,
     "start_time": null,
     "status": "pending"
    },
    "tags": []
   },
   "outputs": [],
   "source": [
    "facet = sns.FacetGrid(train, hue=\"Survived\",aspect=4)\n",
    "facet.map(sns.kdeplot,'FamilySize',shade= True)\n",
    "facet.set(xlim=(0, train['FamilySize'].max()))\n",
    "facet.add_legend()\n",
    "plt.xlim(0)"
   ]
  },
  {
   "cell_type": "code",
   "execution_count": null,
   "id": "a7bd6563",
   "metadata": {
    "execution": {
     "iopub.execute_input": "2022-07-17T15:31:00.522539Z",
     "iopub.status.busy": "2022-07-17T15:31:00.521932Z",
     "iopub.status.idle": "2022-07-17T15:31:00.525508Z",
     "shell.execute_reply": "2022-07-17T15:31:00.525967Z",
     "shell.execute_reply.started": "2022-07-17T15:24:34.429198Z"
    },
    "papermill": {
     "duration": null,
     "end_time": null,
     "exception": null,
     "start_time": null,
     "status": "pending"
    },
    "tags": []
   },
   "outputs": [],
   "source": [
    "family_mapping = {1: 0, 2: 0.4, 3: 0.8, 4: 1.2, 5: 1.6, 6: 2, 7: 2.4, 8: 2.8, 9: 3.2, 10: 3.6, 11: 4}\n",
    "for dataset in train_test_data:\n",
    "    dataset['FamilySize'] = dataset['FamilySize'].map(family_mapping)"
   ]
  },
  {
   "cell_type": "code",
   "execution_count": null,
   "id": "51b4d1d5",
   "metadata": {
    "execution": {
     "iopub.execute_input": "2022-07-17T15:31:00.794499Z",
     "iopub.status.busy": "2022-07-17T15:31:00.793908Z",
     "iopub.status.idle": "2022-07-17T15:31:00.799806Z",
     "shell.execute_reply": "2022-07-17T15:31:00.800346Z",
     "shell.execute_reply.started": "2022-07-17T15:24:34.437994Z"
    },
    "papermill": {
     "duration": null,
     "end_time": null,
     "exception": null,
     "start_time": null,
     "status": "pending"
    },
    "tags": []
   },
   "outputs": [],
   "source": [
    "train.head()\n"
   ]
  },
  {
   "cell_type": "code",
   "execution_count": null,
   "id": "fd73aef7",
   "metadata": {
    "execution": {
     "iopub.execute_input": "2022-07-17T15:31:01.075256Z",
     "iopub.status.busy": "2022-07-17T15:31:01.073487Z",
     "iopub.status.idle": "2022-07-17T15:31:01.078251Z",
     "shell.execute_reply": "2022-07-17T15:31:01.078762Z",
     "shell.execute_reply.started": "2022-07-17T15:24:34.459639Z"
    },
    "papermill": {
     "duration": null,
     "end_time": null,
     "exception": null,
     "start_time": null,
     "status": "pending"
    },
    "tags": []
   },
   "outputs": [],
   "source": [
    "train.head()"
   ]
  },
  {
   "cell_type": "code",
   "execution_count": null,
   "id": "dd13fa77",
   "metadata": {
    "execution": {
     "iopub.execute_input": "2022-07-17T15:31:01.346515Z",
     "iopub.status.busy": "2022-07-17T15:31:01.345200Z",
     "iopub.status.idle": "2022-07-17T15:31:01.349788Z",
     "shell.execute_reply": "2022-07-17T15:31:01.349139Z",
     "shell.execute_reply.started": "2022-07-17T15:24:34.476503Z"
    },
    "papermill": {
     "duration": null,
     "end_time": null,
     "exception": null,
     "start_time": null,
     "status": "pending"
    },
    "tags": []
   },
   "outputs": [],
   "source": [
    "features_drop = ['Ticket', 'SibSp', 'Parch']\n",
    "train = train.drop(features_drop, axis=1)\n",
    "test = test.drop(features_drop, axis=1)\n",
    "train = train.drop(['PassengerId'], axis=1)"
   ]
  },
  {
   "cell_type": "code",
   "execution_count": null,
   "id": "4c17660b",
   "metadata": {
    "execution": {
     "iopub.execute_input": "2022-07-17T15:31:01.614705Z",
     "iopub.status.busy": "2022-07-17T15:31:01.614029Z",
     "iopub.status.idle": "2022-07-17T15:31:01.616875Z",
     "shell.execute_reply": "2022-07-17T15:31:01.617380Z",
     "shell.execute_reply.started": "2022-07-17T15:24:34.487680Z"
    },
    "papermill": {
     "duration": null,
     "end_time": null,
     "exception": null,
     "start_time": null,
     "status": "pending"
    },
    "tags": []
   },
   "outputs": [],
   "source": [
    "train_data = train.drop('Survived', axis=1)\n",
    "target = train['Survived']\n",
    "\n",
    "train_data.shape, target.shape\n"
   ]
  },
  {
   "cell_type": "code",
   "execution_count": null,
   "id": "8b6cf5f8",
   "metadata": {
    "execution": {
     "iopub.execute_input": "2022-07-17T15:31:01.877244Z",
     "iopub.status.busy": "2022-07-17T15:31:01.876284Z",
     "iopub.status.idle": "2022-07-17T15:31:01.892376Z",
     "shell.execute_reply": "2022-07-17T15:31:01.891784Z",
     "shell.execute_reply.started": "2022-07-17T15:24:34.497048Z"
    },
    "papermill": {
     "duration": null,
     "end_time": null,
     "exception": null,
     "start_time": null,
     "status": "pending"
    },
    "tags": []
   },
   "outputs": [],
   "source": [
    "train_data.head(10)\n"
   ]
  },
  {
   "cell_type": "markdown",
   "id": "c098600a",
   "metadata": {
    "papermill": {
     "duration": null,
     "end_time": null,
     "exception": null,
     "start_time": null,
     "status": "pending"
    },
    "tags": []
   },
   "source": [
    "# 4. Model"
   ]
  },
  {
   "cell_type": "code",
   "execution_count": null,
   "id": "e1435d22",
   "metadata": {
    "execution": {
     "iopub.execute_input": "2022-07-17T15:31:02.415639Z",
     "iopub.status.busy": "2022-07-17T15:31:02.414653Z",
     "iopub.status.idle": "2022-07-17T15:31:02.798422Z",
     "shell.execute_reply": "2022-07-17T15:31:02.797770Z",
     "shell.execute_reply.started": "2022-07-17T15:24:34.516514Z"
    },
    "papermill": {
     "duration": null,
     "end_time": null,
     "exception": null,
     "start_time": null,
     "status": "pending"
    },
    "tags": []
   },
   "outputs": [],
   "source": [
    "# Yuklash Classifier Modullarini\n",
    "from sklearn.neighbors import KNeighborsClassifier\n",
    "from sklearn.tree import DecisionTreeClassifier\n",
    "from sklearn.ensemble import RandomForestClassifier\n",
    "from sklearn.naive_bayes import GaussianNB\n",
    "from sklearn.svm import SVC\n",
    "\n",
    "import numpy as np"
   ]
  },
  {
   "cell_type": "code",
   "execution_count": null,
   "id": "e4de1d34",
   "metadata": {
    "execution": {
     "iopub.execute_input": "2022-07-17T15:31:03.061491Z",
     "iopub.status.busy": "2022-07-17T15:31:03.060764Z",
     "iopub.status.idle": "2022-07-17T15:31:03.063976Z",
     "shell.execute_reply": "2022-07-17T15:31:03.064400Z",
     "shell.execute_reply.started": "2022-07-17T15:24:34.809202Z"
    },
    "papermill": {
     "duration": null,
     "end_time": null,
     "exception": null,
     "start_time": null,
     "status": "pending"
    },
    "tags": []
   },
   "outputs": [],
   "source": [
    "train.info()\n"
   ]
  },
  {
   "cell_type": "code",
   "execution_count": null,
   "id": "ac7ce28e",
   "metadata": {
    "execution": {
     "iopub.execute_input": "2022-07-17T15:31:03.300730Z",
     "iopub.status.busy": "2022-07-17T15:31:03.300207Z",
     "iopub.status.idle": "2022-07-17T15:31:03.303888Z",
     "shell.execute_reply": "2022-07-17T15:31:03.303463Z",
     "shell.execute_reply.started": "2022-07-17T15:24:34.822373Z"
    },
    "papermill": {
     "duration": null,
     "end_time": null,
     "exception": null,
     "start_time": null,
     "status": "pending"
    },
    "tags": []
   },
   "outputs": [],
   "source": [
    "from sklearn.model_selection import KFold\n",
    "from sklearn.model_selection import cross_val_score\n",
    "k_fold = KFold(n_splits=10, shuffle=True, random_state=0)"
   ]
  },
  {
   "cell_type": "code",
   "execution_count": null,
   "id": "2b9837dd",
   "metadata": {
    "execution": {
     "iopub.execute_input": "2022-07-17T15:31:03.540414Z",
     "iopub.status.busy": "2022-07-17T15:31:03.535584Z",
     "iopub.status.idle": "2022-07-17T15:31:03.622568Z",
     "shell.execute_reply": "2022-07-17T15:31:03.623228Z",
     "shell.execute_reply.started": "2022-07-17T15:24:34.831685Z"
    },
    "papermill": {
     "duration": null,
     "end_time": null,
     "exception": null,
     "start_time": null,
     "status": "pending"
    },
    "tags": []
   },
   "outputs": [],
   "source": [
    "clf = KNeighborsClassifier(n_neighbors = 13)\n",
    "scoring = 'accuracy'\n",
    "score = cross_val_score(clf, train_data, target, cv=k_fold, n_jobs=1, scoring=scoring)\n",
    "print(score)"
   ]
  },
  {
   "cell_type": "code",
   "execution_count": null,
   "id": "64e11f24",
   "metadata": {
    "execution": {
     "iopub.execute_input": "2022-07-17T15:31:03.864108Z",
     "iopub.status.busy": "2022-07-17T15:31:03.863409Z",
     "iopub.status.idle": "2022-07-17T15:31:03.866054Z",
     "shell.execute_reply": "2022-07-17T15:31:03.866456Z",
     "shell.execute_reply.started": "2022-07-17T15:24:34.922770Z"
    },
    "papermill": {
     "duration": null,
     "end_time": null,
     "exception": null,
     "start_time": null,
     "status": "pending"
    },
    "tags": []
   },
   "outputs": [],
   "source": [
    "# kNN Score\n",
    "round(np.mean(score)*100, 2)"
   ]
  },
  {
   "cell_type": "code",
   "execution_count": null,
   "id": "dbc67f0f",
   "metadata": {
    "execution": {
     "iopub.execute_input": "2022-07-17T15:31:04.106330Z",
     "iopub.status.busy": "2022-07-17T15:31:04.105490Z",
     "iopub.status.idle": "2022-07-17T15:31:04.153340Z",
     "shell.execute_reply": "2022-07-17T15:31:04.152719Z",
     "shell.execute_reply.started": "2022-07-17T15:24:34.930676Z"
    },
    "papermill": {
     "duration": null,
     "end_time": null,
     "exception": null,
     "start_time": null,
     "status": "pending"
    },
    "tags": []
   },
   "outputs": [],
   "source": [
    "clf = DecisionTreeClassifier()\n",
    "scoring = 'accuracy'\n",
    "score = cross_val_score(clf, train_data, target, cv=k_fold, n_jobs=1, scoring=scoring)\n",
    "print(score)"
   ]
  },
  {
   "cell_type": "code",
   "execution_count": null,
   "id": "7eccb407",
   "metadata": {
    "execution": {
     "iopub.execute_input": "2022-07-17T15:31:04.393122Z",
     "iopub.status.busy": "2022-07-17T15:31:04.392504Z",
     "iopub.status.idle": "2022-07-17T15:31:04.395204Z",
     "shell.execute_reply": "2022-07-17T15:31:04.395635Z",
     "shell.execute_reply.started": "2022-07-17T15:24:34.984987Z"
    },
    "papermill": {
     "duration": null,
     "end_time": null,
     "exception": null,
     "start_time": null,
     "status": "pending"
    },
    "tags": []
   },
   "outputs": [],
   "source": [
    "# decision tree natijasini hisoblaymiz\n",
    "round(np.mean(score)*100, 2)\n"
   ]
  },
  {
   "cell_type": "code",
   "execution_count": null,
   "id": "891dd0e8",
   "metadata": {
    "execution": {
     "iopub.execute_input": "2022-07-17T15:31:04.635535Z",
     "iopub.status.busy": "2022-07-17T15:31:04.634639Z",
     "iopub.status.idle": "2022-07-17T15:31:04.910502Z",
     "shell.execute_reply": "2022-07-17T15:31:04.911220Z",
     "shell.execute_reply.started": "2022-07-17T15:24:34.992974Z"
    },
    "papermill": {
     "duration": null,
     "end_time": null,
     "exception": null,
     "start_time": null,
     "status": "pending"
    },
    "tags": []
   },
   "outputs": [],
   "source": [
    "clf = RandomForestClassifier(n_estimators=13)\n",
    "scoring = 'accuracy'\n",
    "score = cross_val_score(clf, train_data, target, cv=k_fold, n_jobs=1, scoring=scoring)\n",
    "print(score)"
   ]
  },
  {
   "cell_type": "code",
   "execution_count": null,
   "id": "d8b520f4",
   "metadata": {
    "execution": {
     "iopub.execute_input": "2022-07-17T15:31:05.151343Z",
     "iopub.status.busy": "2022-07-17T15:31:05.150672Z",
     "iopub.status.idle": "2022-07-17T15:31:05.154657Z",
     "shell.execute_reply": "2022-07-17T15:31:05.155044Z",
     "shell.execute_reply.started": "2022-07-17T15:24:35.266361Z"
    },
    "papermill": {
     "duration": null,
     "end_time": null,
     "exception": null,
     "start_time": null,
     "status": "pending"
    },
    "tags": []
   },
   "outputs": [],
   "source": [
    "# Random Forest natijasini hisoblaymiz\n",
    "round(np.mean(score)*100, 2)"
   ]
  },
  {
   "cell_type": "code",
   "execution_count": null,
   "id": "89373ef8",
   "metadata": {
    "execution": {
     "iopub.execute_input": "2022-07-17T15:31:05.396516Z",
     "iopub.status.busy": "2022-07-17T15:31:05.395723Z",
     "iopub.status.idle": "2022-07-17T15:31:05.441947Z",
     "shell.execute_reply": "2022-07-17T15:31:05.441463Z",
     "shell.execute_reply.started": "2022-07-17T15:24:35.274480Z"
    },
    "papermill": {
     "duration": null,
     "end_time": null,
     "exception": null,
     "start_time": null,
     "status": "pending"
    },
    "tags": []
   },
   "outputs": [],
   "source": [
    "clf = GaussianNB()\n",
    "scoring = 'accuracy'\n",
    "score = cross_val_score(clf, train_data, target, cv=k_fold, n_jobs=1, scoring=scoring)\n",
    "print(score)"
   ]
  },
  {
   "cell_type": "code",
   "execution_count": null,
   "id": "3f9d432e",
   "metadata": {
    "execution": {
     "iopub.execute_input": "2022-07-17T15:31:05.690072Z",
     "iopub.status.busy": "2022-07-17T15:31:05.689395Z",
     "iopub.status.idle": "2022-07-17T15:31:05.692135Z",
     "shell.execute_reply": "2022-07-17T15:31:05.692527Z",
     "shell.execute_reply.started": "2022-07-17T15:24:35.324975Z"
    },
    "papermill": {
     "duration": null,
     "end_time": null,
     "exception": null,
     "start_time": null,
     "status": "pending"
    },
    "tags": []
   },
   "outputs": [],
   "source": [
    "# Naive Bayes natijasini hisoblaymiz\n",
    "round(np.mean(score)*100, 2)\n"
   ]
  },
  {
   "cell_type": "code",
   "execution_count": null,
   "id": "5b2a6c4f",
   "metadata": {
    "execution": {
     "iopub.execute_input": "2022-07-17T15:31:05.934478Z",
     "iopub.status.busy": "2022-07-17T15:31:05.933675Z",
     "iopub.status.idle": "2022-07-17T15:31:06.186448Z",
     "shell.execute_reply": "2022-07-17T15:31:06.186869Z",
     "shell.execute_reply.started": "2022-07-17T15:24:35.334186Z"
    },
    "papermill": {
     "duration": null,
     "end_time": null,
     "exception": null,
     "start_time": null,
     "status": "pending"
    },
    "tags": []
   },
   "outputs": [],
   "source": [
    "clf = SVC()\n",
    "scoring = 'accuracy'\n",
    "score = cross_val_score(clf, train_data, target, cv=k_fold, n_jobs=1, scoring=scoring)\n",
    "print(score)"
   ]
  },
  {
   "cell_type": "code",
   "execution_count": null,
   "id": "a29f79a8",
   "metadata": {
    "execution": {
     "iopub.execute_input": "2022-07-17T15:31:06.437075Z",
     "iopub.status.busy": "2022-07-17T15:31:06.436317Z",
     "iopub.status.idle": "2022-07-17T15:31:06.438978Z",
     "shell.execute_reply": "2022-07-17T15:31:06.439509Z",
     "shell.execute_reply.started": "2022-07-17T15:24:35.588003Z"
    },
    "papermill": {
     "duration": null,
     "end_time": null,
     "exception": null,
     "start_time": null,
     "status": "pending"
    },
    "tags": []
   },
   "outputs": [],
   "source": [
    "round(np.mean(score)*100,2)"
   ]
  },
  {
   "cell_type": "code",
   "execution_count": null,
   "id": "38cdf8e0",
   "metadata": {
    "execution": {
     "iopub.execute_input": "2022-07-17T15:31:06.685253Z",
     "iopub.status.busy": "2022-07-17T15:31:06.684298Z",
     "iopub.status.idle": "2022-07-17T15:31:06.723452Z",
     "shell.execute_reply": "2022-07-17T15:31:06.722983Z",
     "shell.execute_reply.started": "2022-07-17T15:24:35.598771Z"
    },
    "papermill": {
     "duration": null,
     "end_time": null,
     "exception": null,
     "start_time": null,
     "status": "pending"
    },
    "tags": []
   },
   "outputs": [],
   "source": [
    "clf = SVC()\n",
    "clf.fit(train_data, target)\n",
    "\n",
    "test_data = test.drop(\"PassengerId\", axis=1).copy()\n",
    "prediction = clf.predict(test_data)"
   ]
  },
  {
   "cell_type": "markdown",
   "id": "40c2402b",
   "metadata": {
    "papermill": {
     "duration": null,
     "end_time": null,
     "exception": null,
     "start_time": null,
     "status": "pending"
    },
    "tags": []
   },
   "source": [
    "Natijani qabul qilish uchun submission.csv nomli file ochib olamiz"
   ]
  },
  {
   "cell_type": "code",
   "execution_count": null,
   "id": "a5e3f5b7",
   "metadata": {
    "execution": {
     "iopub.execute_input": "2022-07-17T15:31:07.210474Z",
     "iopub.status.busy": "2022-07-17T15:31:07.209821Z",
     "iopub.status.idle": "2022-07-17T15:31:07.216109Z",
     "shell.execute_reply": "2022-07-17T15:31:07.215552Z",
     "shell.execute_reply.started": "2022-07-17T15:24:35.641594Z"
    },
    "papermill": {
     "duration": null,
     "end_time": null,
     "exception": null,
     "start_time": null,
     "status": "pending"
    },
    "tags": []
   },
   "outputs": [],
   "source": [
    "submission = pd.DataFrame({\n",
    "        \"PassengerId\": test[\"PassengerId\"],\n",
    "        \"Survived\": prediction\n",
    "    })\n",
    "\n",
    "submission.to_csv('submission.csv', index=False)"
   ]
  },
  {
   "cell_type": "markdown",
   "id": "f479abb5",
   "metadata": {
    "papermill": {
     "duration": null,
     "end_time": null,
     "exception": null,
     "start_time": null,
     "status": "pending"
    },
    "tags": []
   },
   "source": [
    "Pastdagi qatorni run qilganingizdan so'ng, o'ng tarafda yuqori qismda Output ichida yangi submission.csv file paydo bo'ladi! Siz uni saqlab Titanic musobaqasiga yo'llashingiz mumkin!"
   ]
  },
  {
   "cell_type": "code",
   "execution_count": null,
   "id": "6ba44522",
   "metadata": {
    "execution": {
     "iopub.execute_input": "2022-07-17T15:31:07.705312Z",
     "iopub.status.busy": "2022-07-17T15:31:07.704477Z",
     "iopub.status.idle": "2022-07-17T15:31:07.713292Z",
     "shell.execute_reply": "2022-07-17T15:31:07.712753Z",
     "shell.execute_reply.started": "2022-07-17T15:24:35.651886Z"
    },
    "papermill": {
     "duration": null,
     "end_time": null,
     "exception": null,
     "start_time": null,
     "status": "pending"
    },
    "tags": []
   },
   "outputs": [],
   "source": [
    "submission = pd.read_csv('submission.csv')\n",
    "submission.head(10)"
   ]
  },
  {
   "cell_type": "markdown",
   "id": "2650f5d3",
   "metadata": {
    "papermill": {
     "duration": null,
     "end_time": null,
     "exception": null,
     "start_time": null,
     "status": "pending"
    },
    "tags": []
   },
   "source": [
    "# <center>Qoyil, siz buni uddaladingiz!🥳🎉 </center>"
   ]
  },
  {
   "cell_type": "markdown",
   "id": "1ba07ca1",
   "metadata": {
    "papermill": {
     "duration": null,
     "end_time": null,
     "exception": null,
     "start_time": null,
     "status": "pending"
    },
    "tags": []
   },
   "source": [
    ">   <center>Notebook bilan tanishib chiqdingiz buning uchun alohida raxmat, agar sizda muammo bulsa izohlarda yozishdan tortinmang!</center>"
   ]
  }
 ],
 "metadata": {
  "kernelspec": {
   "display_name": "Python 3",
   "language": "python",
   "name": "python3"
  },
  "language_info": {
   "codemirror_mode": {
    "name": "ipython",
    "version": 3
   },
   "file_extension": ".py",
   "mimetype": "text/x-python",
   "name": "python",
   "nbconvert_exporter": "python",
   "pygments_lexer": "ipython3",
   "version": "3.7.12"
  },
  "papermill": {
   "default_parameters": {},
   "duration": 11.329247,
   "end_time": "2023-04-02T20:15:22.934053",
   "environment_variables": {},
   "exception": true,
   "input_path": "__notebook__.ipynb",
   "output_path": "__notebook__.ipynb",
   "parameters": {},
   "start_time": "2023-04-02T20:15:11.604806",
   "version": "2.4.0"
  }
 },
 "nbformat": 4,
 "nbformat_minor": 5
}
